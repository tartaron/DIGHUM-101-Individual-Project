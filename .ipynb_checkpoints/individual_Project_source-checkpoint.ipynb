{
 "cells": [
  {
   "cell_type": "code",
   "execution_count": 43,
   "metadata": {},
   "outputs": [],
   "source": [
    "# Import libraries\n",
    "\n",
    "from collections import Counter # Count most common words\n",
    "%matplotlib inline\n",
    "import nltk # natural language toolkit\n",
    "#nltk.download('stopwords')\n",
    "from nltk.corpus import stopwords\n",
    "import numpy as np \n",
    "import os\n",
    "import pandas as pd\n",
    "import pyLDAvis.sklearn # visualize our topic models!\n",
    "import re # regular expressions\n",
    "# Preprocessing\n",
    "import gensim\n",
    "# Algorithms (unsupervised)\n",
    "from sklearn.decomposition import LatentDirichletAllocation\n",
    "# Tools to create our DTMs\n",
    "from sklearn.feature_extraction.text import CountVectorizer, TfidfVectorizer, TfidfTransformer\n",
    "# Visualize word clouds \n",
    "from wordcloud import WordCloud\n",
    "# Visualization libraries\n",
    "import matplotlib.pyplot as plt\n",
    "import seaborn as sns\n",
    "\n",
    "import warnings\n",
    "warnings.filterwarnings(\"ignore\", category = DeprecationWarning)"
   ]
  },
  {
   "cell_type": "code",
   "execution_count": 44,
   "metadata": {},
   "outputs": [],
   "source": [
    "# Define a variable with the file path for the directory containing the text files\n",
    "# Go two directories up (../../) \n",
    "# and into the Data directory\n",
    "# then into the human-rights subdirectory\n",
    "#dir_path = os.listdir(\"./Data/human-rights/\")\n",
    "#dir_path = os.listdir(\"./Data/individual/\")\n",
    "dir_path = os.listdir(\"./Data/individual_openAI/\")\n",
    "\n",
    "# View the contents of this directory\n",
    "#dir_path"
   ]
  },
  {
   "cell_type": "code",
   "execution_count": 48,
   "metadata": {},
   "outputs": [
    {
     "name": "stdout",
     "output_type": "stream",
     "text": [
      " Anna Karenina is a novel about a woman who falls in love with a man who is \t\t\t\t\tmarried to someone else. \t\t\t\t\t \t\t\t\t\t \t\t\t\t\t\t \t\t\t\t\t\t\t \t\t\t\t\t\t\t\t \t\t\t\t\t\t\t\t\tPART ONE \t\t\t\t\t\t\t\t\t \t\t\t\t\t\t\t\t\tCHAPTER I \t\t\t\t\t\t\t\t\t \t\t\t\t\t\t\t\t\tCHAPTER II \t\t\t\t\t\t\t\t\t \t\t\t\t\t\t\t\t\n",
      " it's all about a guy who is having an affair with a governess, but his wife finds out and kicks him out of the house. He goes to his friend's house, and his friend's wife is also having an affair with a governess. They all have a party and they all get drunk and the governesses get drunk and they all have sex with each other. The end.\n",
      " he was a cheater and he knew it.\n",
      " I’m not a fan of Tolstoy.\n",
      " The husband and wife are having a spat. The husband is a bit of a \t\t\t\t\t\t\t\t\t\t\t\t\t\t\t\t\t\t\t\t\t\t\t\t\t\t\t\t\t\t\t\t\t\t\t\t\t\t\t\t\t\t\t\t\t\t\t\t\t\t\t\t\t\t\t\t\t\t\t\t\t\t\t\t\t\t\t\t\t\t\t\t\t\t\t\t\t\t\t\t\t\t\t\t\t\t\t\t\t\t\t\t\t\t\t\t\t\t\t\t\t\t\t\t\t\t\t\t\t\t\t\t\t\t\t\t\t\t\t\t\t\t\t\n",
      " \t \t \t \t \t \t \t \t \t \t \t \t \t \t \t \t \t \t \t \t \t \t \t \t \t \t \t \t \t \t \t \t \t \t \t \t \t \t \t \t \t \t \t \t \t \t \t \t \t \t \t \t \t \t \t \t \t \t \t \t \t \t \t \t \t \t \t \t \t \t\n",
      " a man who has no interest in politics and is a liberal is a hypocrite.\n",
      "\n",
      "\n",
      " Anna Karenina is a novel by Leo Tolstoy, first published in 1877. It is regarded as one of the major works of 19th-century fiction. Tolstoy himself considered Anna Karenina his first true novel. It is the seventh longest novel ever written, and is widely considered to be one of the first works of modernist literature.\n",
      " she’s a bitch, and he’s a shit.\n",
      " the husband of a woman who is a friend of Anna Karenina’s is having an affair with the governess of his children. Anna Karenina finds out and confronts him. He cries and begs her to forgive him. She says she can’t forgive him. He says he loves her. She says she hates him. He says he loves her. She says she hates him. He says he loves her. She says she hates him. He says he loves her. She says she hates him. He says he loves her. She says she hates him. He says he loves her. She says she hates him. He says he loves her. She says she hates him.\n",
      "  \n",
      " Oblonsky is a good guy.\n",
      " Stepan Arkadyevitch is a good man and a good husband, but he is not a good man, and he is not a good husband.\n",
      " I am a man, and I am a man, and I am a man.\n",
      "\n",
      "\n",
      " \n",
      " Levin is in love with Kitty, but he’s also in love with the Shtcherbatskys’ household, and he’s in love with the Shtcherbatskys’ household because he’s in love with Kitty.\n",
      " he was a peasant and she was a princess.   \n",
      " Is there a line to be drawn between psychological and physiological phenomena in man? and if so, where?   \n",
      "\n",
      " I’m not going to post the entire book here. I’ll post the next chapter when I get home from work.\n",
      "\n",
      "\n",
      "----------------------------------------------------------------------------------\n",
      "\n",
      "\n",
      "Anna Karenina is a novel about a woman who has an affair and then dies. he was having an affair with a girl of seventeen. But he was pained at having caused his wife suffering, and was sorry for his wife. He was sorry for her, and at the same time he was angry with her for having discovered his fault. He felt that his fault was not the chief \t\t\tcause of her suffering, but her discovery of it. He felt that the chief \t\t\tcause of her suffering was that for the first time in her life she had \t\t\tdiscovered in herself a feeling of jealousy, which was a humiliating \t\t\tfeeling. He felt sorry for he was cheating on his wife. Anna is coming, and she might bring about a reconciliation. he doesn't like his wife, but he's afraid to divorce her because she's a rich bitch and he's a poor schmuck. Anna Karenina is a novel by Leo Tolstoy, first published in 1877. It is regarded as one of the major works of 19th-century fiction. The novel chronicles the doomed love affair between the sensuous and rebellious Anna and the dashing officer, Count Vronsky. It is set against a vast, panoramic background of 19th-century Russian society, with its class struggles, its rapid movement from rural simplicity to the sophistication of St. Petersburg, and the moral struggles of the characters against a tragic ending. I'm a piece of shit, but I'm a piece of shit who's willing to change. Dolly is a bitch and she’s going to die alone. Oblonsky is a good guy and a good bureaucrat. If you want to be a good man, you must be a good man all the time. I don’t want to be a part of the system. Levin is a dick. I'm in love with your sister-in-law, and I'm going to propose to her. What is the soul? it's not a novel.\n",
      "\n",
      "----------------------------------------------------------------------------------\n",
      "\n",
      "\n",
      " Anna Karenina is a Russian novel by Leo Tolstoy. It's about Anna, a married woman who has an affair with a young military officer. the wife had discovered that the husband was carrying on an intrigue with a French girl, who had been a governess in their family, and she had announced to her husband that she could not go on living in the same house with him. This position of affairs had now lasted three days, and not only the husband and wife themselves, but all the members of their family and household, were painfully conscious of it. Every person in the house felt that there was no sense in their living together, and that the stray people brought together by chance in any inn had more in common with one another than they, the members of the family and household of the Oblonskys. The wife did not he was in love with his wife, and he was not going to change that fact. I’m a cheater and I’m going to cheat some more. Anna is coming to visit and will probably help them reconcile. he's a dick. Anna Karenina is a novel by Leo Tolstoy, published in installments from 1873 to 1877 in the Russian literary magazine The Russian Messenger. It is often cited as one of the world's greatest novels. Tolstoy himself considered Anna Karenina his first true novel, after he had earlier written several shorter novels, including Childhood, Boyhood, and Youth (1852), and War and Peace (1869). I’m not a fan of the book, but I think the movie is pretty good. Stepan Arkadyevitch is a scoundrel. Oblonsky is a liberal, and he is a good guy. Stepan Arkadyevitch is a good guy. I’m a fan of the book, but I’m not a fan of the movie. I think the movie is a good adaptation, but it’s not a good movie. The movie is a good adaptation, but it’s not a good movie. The movie is a good adaptation, but it’s not a good movie. The movie is a good adaptation, but it’s not a good movie. The movie is a good adaptation, but it’s not a good movie. The movie is a good adaptation, but it’s not a good movie. The movie is a good adaptation, but it’s not a Levin is a shy nerd who is still in love with Kitty, but he’s also a very good person and a very good friend. He’s a very good friend to Stepan Arkadyevitch, and he’s a very good friend to Kitty, and he’s a very good friend to the Shtcherbatskys. He’s a very good friend to everyone. And he’s a very good person.I’m not going to tell you what happened, you’ll have to read the book yourself. Levin is in love with Kitty, but he is too shy to tell her. He is also in love with a peasant girl. He is torn between the two. He goes to Moscow to forget about the peasant girl. He meets Kitty at a ball, and is even more in love with her. He goes to the zoo with Stepan Arkadyevitch and sees Kitty skating. He is even more in love with her. He goes home to the country and is in love with the peasant girl again. He goes back to Moscow and sees Kitty at a concert. He is even more in love with her. He goes to the country and is in love with the peasant girl. He goes back a rich landowner falls in love with a princess, but he’s too shy to approach her, so he just hangs out with her family and enjoys the view. the professor of philosophy was a dick. I don't have time to read this book.\n",
      "\n",
      "----------------------------------------------------------------------------------\n",
      "\n",
      "\n",
      "﻿ Anna Karenina is a novel by Leo Tolstoy about a married woman who has an affair with a young officer. the wife had discovered that the husband was carrying on an he was in love with a girl of eighteen, and was afraid of it, and was \twith his wife, whom he did not love, and had no intention of leaving her.He's a cuckold.Stepan Arkadyevitch is a dick, but he’s a dick who loves his wife and wants to make things work. Anna is a dick, but she’s a dick who loves her husband and wants to make things work. They’re both dicks.Stepan Arkadyevitch was a man who liked to have a good time. He liked to drink, to eat, to talk, to listen to music, to dance. He liked to do nothing, and he did it well. He liked to sleep, and he slept well. He liked to have a good time, and he had it well. He liked to love, and he loved well. He liked to hate, and he hated well. He liked to live, and he lived well. He liked to die, and he died well. He liked to do everything, and he did everything well.Anna Karenina is a book about a woman who is in love with a man who is in love with another woman.Anna Karenina is a novel by Leo Tolstoy, published in 1877. It is about a woman who falls in love with a man who is already married, and the consequences of this.I can't believe that you're not a horrible person for cheating on your wife.she’s a bitch, I hate her.Oblonsky is a lazy, good-natured, and popular bureaucrat. He’s the kind of guy who would have been a great friend to have in college, but would have been a terrible employee.Stepan Arkadyevitch is a good man, but a bit of a hypocrite.the author is a bit of a dick. Levin is in love with Kitty, but he is a shy, awkward dork. He wants to ask Stepan Arkadyevitch for advice on how to approach her. Stepan Arkadyevitch is a dandy and a rake and a man of the world. He advises Levin to get a new suit, and then he can approach Kitty. Levin gets a new suit, and then he goes to see Stepan Arkadyevitch. Stepan Arkadyevitch is at home. He is in the middle of a conversation with his friend Grinevitch. Levin interrupts them. Stepan Arkadyevitch is annoyed. Levin is embarrassed. Stepan Arkadyevitch is I'm a big fat nerd who likes to read and write. I'm also a big fat nerd who likes to play video games. I'm also a big fat nerd who likes to watch anime. I'm also a big fat nerd who likes to watch movies. I'm also a big fat nerd who likes to watch TV. I'm also a big fat nerd who likes to read manga. I'm also a big fat nerd who likes to read books. I'm also a big fat nerd who likes to watch TV shows. I'm also a big fat nerd who likes to watch sports. I'm also a big fat nerd who likes to watch sports. I'm also a big fat nerd who Levin is a rich landowner, and he is in love with Kitty. is it possible to draw a line between the mind and the body? the professor is a materialist, and the brother is a spiritualist. The professor is a materialist, and the brother is a spiritualist\n",
      "\n",
      "----------------------------------------------------------------------------------\n",
      "\n",
      "\n",
      "﻿ Anna Karenina is a tragic novel about a woman who falls in love with a man who is already married.  \n",
      " this is a short story, not a novel.\n",
      " he had an affair with his wife’s best friend, and his wife found out. He was in love with his wife, but he was not in love with her. He was in love with her, but he was not in love with her. He was in love with her, but he was not in love with her. He was in love with her, but he was not in love with her. He was in love with her, but he was not in love with her. He was in love with her, but he was not in love with her. He was in love with her, but he was not in love with her. He was in love with her, but\n",
      " I’m a slut.  \n",
      " Anna is coming to visit and will probably bring about a reconciliation.  \n",
      "\n",
      " he's a liberal, and he's a dick\n",
      "\n",
      "  \n",
      "\n",
      " she's a bitch.\n",
      "  \n",
      "\n",
      " Oblonsky is a good guy who is also a dandy and a drunk. He's a good friend and a good brother-in-law. He's a good husband and a good father. He's a good man. He's a good man who is also a dandy and a drunk.\n",
      " Stepan Arkadyevitch is a lawyer. He is a good man. He is a good husband. He is a good father. He is a good friend. He is a good brother. He is a good man. He is a good man. He is a good man. He is a good man. He is a good man. He is a good man. He is a good man. He is a good man. He is a good man. He is a good man. He is a good man. He is a good man. He is a good man. He is a good man. He is a good man. He is a good man. He is a good\n",
      "  \n",
      " I don’t like the government, and I don’t like the district council.  \n",
      " in a nutshell, this is a story about a guy who is in love with a girl and is trying to get her to marry him. He’s a bit of a dork and he’s not too good with women, and he’s also a bit of a snob, but he’s a good guy and he’s got a lot of money, so he’s a catch. He’s also a bit of a liberal and a bit of a conservative, but he’s not too good with politics. He’s a bit of a snob, but he’s a good guy and he’\n",
      " The government is corrupt, but it’s the only game in town.\n",
      " Levin is in love with Kitty, but he is a shy, awkward, and naive man. He is also a great farmer, and he wants to marry Kitty to make her happy. But he is afraid that she will not love him. He is also afraid that he will not be able to make her happy. He is also afraid that he will not be able to make her happy because he is not as rich as her other suitors. He is also afraid that he will not be able to make her happy because he is not as rich as her other suitors. He is also afraid that he will not be able to make her happy because he is not as rich as her other suitors\n",
      " a guy falls in love with a girl, but he thinks she’s too good for him, so he runs away.\n",
      " Is man a machine?\n",
      "   \n",
      "\n",
      "\n",
      "\n",
      "----------------------------------------------------------------------------------\n",
      "\n",
      "\n",
      "﻿ Anna Karenina is about a woman who has an affair, then her husband finds out, then she has another affair, then she dies.\n",
      "\n",
      " he was a man of the world, and he was not in love. He was \t \tnot in love, and he was not going to be in love. He was not in love, \t \tand he never would be. And he knew that he could not be in love, because \t \the was too happy, and happiness, as all people of sense know, is the \t \tsurest guarantee against love. \t \tHe was happy, but at the same time he felt that there was something \t \tnot right; and he could not conceive how it was that everything was \t \tnot right. \t\n",
      " I’m not a fan of this book. I’ll continue reading it, but I’m not a fan of it.\n",
      " Stepan Arkadyevitch is a bit of a dick.\n",
      "  \n",
      " the author of this book is a fucking idiot.\n",
      " it's a story about a man who is a dick and a woman who is a saint.\n",
      " Anna Karenina is a book about a woman who is a terrible person and a man who is a terrible person and they both have terrible problems and they both have terrible lives and they both have terrible children and they both have terrible friends and they both have terrible families and they both have terrible jobs and they both have terrible houses and they both have terrible clothes and they both have terrible hair and they both have terrible skin and they both have terrible teeth and they both have terrible everything and they both have terrible lives and they both have terrible problems and they both have terrible children and they both have terrible friends and they both have terrible families and they both have terrible jobs and they both have terrible houses and they both have\n",
      " Anna Karenina is a tragedy.\n",
      " I'm a man, and I'm a woman, and I'm a feminist. I'm a feminist because I'm a man, and I'm a man because I'm a feminist. I'm a feminist because I'm a woman, and I'm a woman because I'm a feminist. I'm a feminist because I'm a man, and I'm a man because I'm a feminist. I'm a feminist because I'm a woman, and I'm a woman because I'm a feminist. I'm a feminist because I'm a man, and I'm a man because I'm a feminist. I'm a feminist because I'm a woman, and I'm a woman because I'm\n",
      " Stepan Arkadyevitch is a scoundrel.\n",
      " he was a bad student. He was a bad student because he was \t \t \t\tlazy, and because he had no taste for the abstract sciences. He was \t\t \t\tlazy, and he had no taste for the abstract sciences because he was \t\t \t\tnot interested in them. He was interested in history because it told \t\t \t\tof what had happened, of what was happening, and of what would \t\t \t\thappen; he was interested in geography because it described the \t\t \t\tcountry; he was interested in the exact sciences because they were \t\t \t\t\n",
      " Oblonsky is a bureaucrat who lives a life of leisure and pleasure. He is a good-natured man who is liked by everyone he meets. He is a man who is not ambitious, and is content with what he has. He is a man who is not interested in the work he does, and does not care about the results. He is a man who is not interested in the work he does, and does not care about the results. He is a man who is not interested in the work he does, and does not care about the results. He is a man who is not interested in the work he does, and does not care about the results. He is\n",
      " Stepan Arkadyevitch is a good man, but he has a secret.   \n",
      "\n",
      " I don’t know what I’m doing, but I’m doing it.  \n",
      " Levin is a very shy person, and he’s a little bit of a conservative. He doesn’t like the idea of the district council, which is a plaything for the coterie of the district to make money. He’s also a little bit angry at Stepan Arkadyevitch, who is always so well dressed.\n",
      "  \n",
      " Levin is a romantic who is in love with Kitty, but he is also a practical man who wants to marry a woman who is a good wife and mother. He is torn between these two desires.  \n",
      "\n",
      "  \n",
      " it's a book about the meaning of life, and how to find it.  \n",
      " I’m not going to be a dick, but I’m not going to be a doormat either.\n",
      "\n",
      "\n",
      "----------------------------------------------------------------------------------\n",
      "\n",
      "\n",
      "﻿ Anna Karenina is a novel about a woman who has an affair, gets \t\t\t\t\t\t\t\tpregnant, and then has to deal with the social consequences. \t\t\t\t\t\t\t\tIt’s a long book, and it’s not always an easy read, but it’s \t\t\t\t\t\t\t\tworth it. \t\t\t\t\t\t\t \t\t\t\t\t\t\t \t\t\t\t\t\t\t\t \t\t\t\t\t\t\t\t\t \t\t\t\t\t\t\t\t\t\tPART ONE \t\t\t\t\t\t\t\t\n",
      "\n",
      " he was a handsome, susceptible man of thirty-four, and he was not in love.\n",
      " a man has an affair with his wife's former governess, and his wife finds out. He's not sure how to handle it.\n",
      " Anna is coming to Moscow and she’s going to bring back Dolly and Kitty.\n",
      "  \n",
      " a man of the world is a man of the world, and a man of the world is a man of the world.\n",
      " a woman is a woman, but a good cigar is a smoke.\n",
      " I’m not sure if I’m going to read the rest of this book. I’m not sure if I’m going to read the rest of this book.\n",
      " Dolly is a bitch and I hate her.\n",
      " I'm a little late, but I'm still here. I'm still here. I'm still here. I'm still here. I'm still here. I'm still here. I'm still here. I'm still here. I'm still here. I'm still here. I'm still here. I'm still here. I'm still here. I'm still here. I'm still here. I'm still here. I'm still here. I'm still here. I'm still here. I'm still here. I'm still here. I'm still here. I'm still here. I'm still here. I'm still here. I'm still here. I'm still\n",
      "\n",
      "\n",
      " Oblonsky is a good-natured, liberal, and lazy bureaucrat.\n",
      " I'm a bad person.\n",
      " I'm a woman, and I'm not a feminist. I'm a woman, and I'm not a feminist. I'm a woman, and I'm not a feminist. I'm a woman, and I'm not a feminist. I'm a woman, and I'm not a feminist. I'm a woman, and I'm not a feminist. I'm a woman, and I'm not a feminist. I'm a woman, and I'm not a feminist. I'm a woman, and I'm not a feminist. I'm a woman, and I'm not a feminist. I'm a woman, and I'm not a feminist. I'm a woman, and I'm\n",
      " the author is a fucking genius.\n",
      " Levin is a shy, awkward, and socially inept guy who is in love with the Shtcherbatsky sisters. He is also a very intelligent and hard-working man who has a lot of opinions about everything. He is also a very good farmer. He is also a very good friend. He is also a very good brother. He is also a very good son. He is also a very good brother-in-law. He is also a very good father. He is also a very good husband. He is also a very good lover. He is also a very good man. He is also a very good person. He is also a very good person. He is also a\n",
      "  \n",
      " Levin is in love with Kitty, who is engaged to Oblonsky. Levin is a self-deprecating, awkward guy who is also a bit of a mama’s boy. He’s in love with Kitty, but he’s not sure if he should pursue her because he’s not sure if he’s good enough for her. He’s also not sure if he should pursue her because he’s not sure if he’s good enough for her. He’s also not sure if he should pursue her because he’s not sure if he’s good enough for her. He’\n",
      " he was a low creature and she was a goddess.   \n",
      " Is there a line to be drawn between psychological and physiological phenomena in man? and if so, where?  \n",
      "   \n",
      " \n",
      "\n",
      "\n",
      "----------------------------------------------------------------------------------\n",
      "\n",
      "\n",
      "﻿ Anna Karenina is a novel about adultery.  \n",
      "\n",
      " he was a cuckold.\n",
      " wife found out about the affair, husband is feeling bad about it, but then he realizes that he’s got to live in the needs of the day, so he goes to shave and get dressed.\n",
      " I think the point is that Anna is so self-centered that she doesn't \t\teven realize that she's being a bitch. She's just so used to being \t\tthe center of attention that she doesn't even realize that she's being \t\ta bitch. She's just so used to being the center of attention that she \t\tdoesn't even realize that she's being a bitch. She's just so used to \t\tbeing the center of attention that she doesn't even realize that she's \t\tbeing a bitch. She's just so used to being the center of attention that \t\tshe doesn't even realize that she's being a\n",
      " he was a cheater, and he knew it, and he was trying to reconcile   \n",
      " the main character is a bit of a dick.\n",
      " a man is a woman's property, and she is his.\n",
      " he’s a terrible husband.\n",
      " Anna Karenina is a Russian novel by Leo Tolstoy. It was first published in serial form in the Russian literary magazine The Russian Messenger from 1873 to 1877. It is often cited as one of the world's greatest novels.\n",
      " I am a piece of shit, and I deserve to be treated like one.\n",
      " she’s the worst, he’s the best.\n",
      " he was a cheater and a liar, and he was a cheater and a liar, and he was a cheater and a liar, and he was a cheater and a liar, and he was a cheater and a liar, and he was a cheater and a liar, and he was a cheater and a liar, and he was a cheater and a liar, and he was a cheater and a liar, and he was a cheater and a liar, and he was a cheater and a liar, and he was a cheater and a liar, and he was a cheater and a liar, and he was a cheater and a liar, and\n",
      "\n",
      " Stepan Arkadyevitch is a good man, but he is a bit of a dick.\n",
      "  \n",
      " Levin is a liberal, but he is also a conservative. He is a liberal because he is a conservative. He is a conservative because he is a liberal. He is a liberal because he is a conservative. He is a conservative because he is a liberal. He is a liberal because he is a conservative. He is a conservative because he is a liberal. He is a liberal because he is a conservative. He is a conservative because he is a liberal. He is a liberal because he is a conservative. He is a conservative because he is a liberal. He is a liberal because he is a conservative. He is a conservative because he is a liberal. He is a liberal because he is a\n",
      " Levin is a weirdo who doesn’t know how to interact with people. He’s also a weirdo who doesn’t know how to interact with people. He’s also a weirdo who doesn’t know how to interact with people. He’s also a weirdo who doesn’t know how to interact with people. He’s also a weirdo who doesn’t know how to interact with people. He’s also a weirdo who doesn’t know how to interact with people. He’s also a weirdo who doesn’t know how to interact with people. He’\n",
      "  \n",
      " Levin is in love with Kitty, but there is a problem. Kitty is engaged to be married to a man who is not a bad man, but not a good man. Levin is in love with Kitty, but he is also in love with the idea of being in love with Kitty. He is in love with the idea of being in love with Kitty, because he wants to be in love with Kitty, but he is also in love with the idea of being in love with Kitty, because he wants to be in love with Kitty, but he is also in love with the idea of being in love with Kitty, because he wants to be in love with Kitty, but he is also in love\n",
      "\n",
      "  \n",
      " the professor is a dick\n",
      " I’m not a fan of Tolstoy.\n",
      "\n",
      "\n",
      "----------------------------------------------------------------------------------\n",
      "\n",
      "\n"
     ]
    }
   ],
   "source": [
    "# Designate an empty dictionary to store the filename and text as columns\n",
    "for_dataframe = {}\n",
    "\n",
    "# Loop through the directory of text files and open and read them\n",
    "for file in dir_path:\n",
    "    #with open(\"./Data/human-rights/\" + file, \"r\", encoding=\"utf-8\") as to_open:\n",
    "    #with open(\"./Data/individual/\" + file, \"r\", encoding=\"utf-8\") as to_open:\n",
    "    with open(\"./Data/individual_openAI/\" + file, \"r\", encoding=\"utf-8\") as to_open:\n",
    "         for_dataframe[file] = to_open.read()\n",
    "         print(for_dataframe[file] + '\\n\\n----------------------------------------------------------------------------------\\n\\n') \n",
    "            \n",
    "# Create and append the dataframe with two columns - the file name and the text itself\n",
    "human_rights = (pd.DataFrame.from_dict(for_dataframe, \n",
    "                                       orient = \"index\")\n",
    "                .reset_index().rename(index = str, \n",
    "                                      columns = {\"index\": \"File\", 0: \"Text\"}))"
   ]
  },
  {
   "cell_type": "code",
   "execution_count": 4,
   "metadata": {},
   "outputs": [],
   "source": [
    "#human_rights\n",
    "#human_rights[\"Text_processed\"]"
   ]
  },
  {
   "cell_type": "code",
   "execution_count": 5,
   "metadata": {},
   "outputs": [],
   "source": [
    "# Check out text of one row to make sure it looks okay...\n",
    "#human_rights.iloc[0,1][:1000]"
   ]
  },
  {
   "cell_type": "code",
   "execution_count": 6,
   "metadata": {},
   "outputs": [],
   "source": [
    "human_rights[\"Text_processed\"] = human_rights[\"Text\"].apply(gensim.utils.simple_preprocess)\n",
    "\n",
    "#human_rights[\"Text_processed\"] "
   ]
  },
  {
   "cell_type": "code",
   "execution_count": 7,
   "metadata": {},
   "outputs": [],
   "source": [
    "# Using gensim for preprocessing using .apply()\n",
    "processed = human_rights[\"Text\"].apply(gensim.utils.simple_preprocess)\n",
    "\n",
    "# Stopword removal using NLTK stopword list and a lambda function\n",
    "stop = stopwords.words('english')\n",
    "no_stop = processed.apply(lambda x: [w for w in x if w not in stopwords.words('english')]) \n",
    "\n",
    "# Convert list back to str\n",
    "human_rights[\"Text_processed\"] = [' '.join(t) for t in no_stop]"
   ]
  },
  {
   "cell_type": "code",
   "execution_count": 8,
   "metadata": {
    "scrolled": true
   },
   "outputs": [],
   "source": [
    "#human_rights"
   ]
  },
  {
   "cell_type": "code",
   "execution_count": 9,
   "metadata": {},
   "outputs": [],
   "source": [
    "#human_rights['Text_processed'][0][:1000]"
   ]
  },
  {
   "cell_type": "code",
   "execution_count": 10,
   "metadata": {},
   "outputs": [],
   "source": [
    "# Get top-10 words\n",
    "\n",
    "hr_str = ' '.join(human_rights['Text_processed'].tolist())\n",
    "hr_tok = hr_str.split()\n",
    "hr_freq = Counter(hr_tok)\n",
    "\n",
    "# Print the 10 most common words\n",
    "hr_df = pd.DataFrame(hr_freq.most_common(10), columns = [\"Word\", \"Frequency\"])\n",
    "#hr_df"
   ]
  },
  {
   "cell_type": "code",
   "execution_count": 11,
   "metadata": {},
   "outputs": [],
   "source": [
    "# Save to csv!\n",
    "#human_rights.to_csv('./Data/human_rights.csv', index=False)\n",
    "human_rights.to_csv('./Data/individual.csv', index=False)"
   ]
  },
  {
   "cell_type": "markdown",
   "metadata": {},
   "source": [
    "# Define a BOW model"
   ]
  },
  {
   "cell_type": "code",
   "execution_count": 12,
   "metadata": {},
   "outputs": [
    {
     "data": {
      "text/plain": [
       "CountVectorizer()"
      ]
     },
     "execution_count": 12,
     "metadata": {},
     "output_type": "execute_result"
    }
   ],
   "source": [
    "# Define an empty bag (of words)\n",
    "vectorizer = CountVectorizer()\n",
    "\n",
    "# Use the .fit method to tokenize the text and learn the vocabulary\n",
    "vectorizer.fit(human_rights[\"Text_processed\"])"
   ]
  },
  {
   "cell_type": "markdown",
   "metadata": {},
   "source": [
    "# Create the DTM"
   ]
  },
  {
   "cell_type": "code",
   "execution_count": 13,
   "metadata": {},
   "outputs": [],
   "source": [
    "# Encode the documents\n",
    "vector = vectorizer.transform(human_rights[\"Text_processed\"])\n",
    "\n",
    "#print(type(vector))\n",
    "#print(vector.shape)\n",
    "#print(vector) "
   ]
  },
  {
   "cell_type": "code",
   "execution_count": 14,
   "metadata": {},
   "outputs": [],
   "source": [
    "# View as a multidimensional array before converting to data frame\n",
    "# Rows are the documents, columns are the terms\n",
    "\n",
    "#print(vector.toarray())"
   ]
  },
  {
   "cell_type": "code",
   "execution_count": 15,
   "metadata": {},
   "outputs": [],
   "source": [
    "# Preview the terms\n",
    "\n",
    "#vectorizer.get_feature_names()[0:10]"
   ]
  },
  {
   "cell_type": "markdown",
   "metadata": {},
   "source": [
    "# Define a bigram bag of words"
   ]
  },
  {
   "cell_type": "code",
   "execution_count": 16,
   "metadata": {},
   "outputs": [],
   "source": [
    "# Note we are entering regular expression as a token_pattern argument\n",
    "\n",
    "bigram_vectorizer = CountVectorizer(ngram_range = (1,2),\n",
    "                                    stop_words = \"english\",\n",
    "                                    token_pattern = r'\\b\\w+\\b', \n",
    "                                    min_df = 1)\n",
    "\n",
    "#bigram_vectorizer"
   ]
  },
  {
   "cell_type": "code",
   "execution_count": 17,
   "metadata": {},
   "outputs": [],
   "source": [
    "# Analyze string in the bigram bag of words\n",
    "\n",
    "analyze = bigram_vectorizer.build_analyzer()\n",
    "vocab = analyze(hr_str)\n",
    "\n",
    "#vocab[0:10]"
   ]
  },
  {
   "cell_type": "code",
   "execution_count": 18,
   "metadata": {},
   "outputs": [
    {
     "data": {
      "text/html": [
       "<div>\n",
       "<style scoped>\n",
       "    .dataframe tbody tr th:only-of-type {\n",
       "        vertical-align: middle;\n",
       "    }\n",
       "\n",
       "    .dataframe tbody tr th {\n",
       "        vertical-align: top;\n",
       "    }\n",
       "\n",
       "    .dataframe thead th {\n",
       "        text-align: right;\n",
       "    }\n",
       "</style>\n",
       "<table border=\"1\" class=\"dataframe\">\n",
       "  <thead>\n",
       "    <tr style=\"text-align: right;\">\n",
       "      <th></th>\n",
       "      <th>Word</th>\n",
       "      <th>Frequency</th>\n",
       "    </tr>\n",
       "  </thead>\n",
       "  <tbody>\n",
       "    <tr>\n",
       "      <th>0</th>\n",
       "      <td>good</td>\n",
       "      <td>91</td>\n",
       "    </tr>\n",
       "    <tr>\n",
       "      <th>1</th>\n",
       "      <td>love</td>\n",
       "      <td>70</td>\n",
       "    </tr>\n",
       "    <tr>\n",
       "      <th>2</th>\n",
       "      <td>man</td>\n",
       "      <td>69</td>\n",
       "    </tr>\n",
       "    <tr>\n",
       "      <th>3</th>\n",
       "      <td>woman</td>\n",
       "      <td>36</td>\n",
       "    </tr>\n",
       "    <tr>\n",
       "      <th>4</th>\n",
       "      <td>anna</td>\n",
       "      <td>28</td>\n",
       "    </tr>\n",
       "    <tr>\n",
       "      <th>5</th>\n",
       "      <td>good man</td>\n",
       "      <td>28</td>\n",
       "    </tr>\n",
       "    <tr>\n",
       "      <th>6</th>\n",
       "      <td>kitty</td>\n",
       "      <td>27</td>\n",
       "    </tr>\n",
       "    <tr>\n",
       "      <th>7</th>\n",
       "      <td>terrible</td>\n",
       "      <td>23</td>\n",
       "    </tr>\n",
       "    <tr>\n",
       "      <th>8</th>\n",
       "      <td>feminist</td>\n",
       "      <td>23</td>\n",
       "    </tr>\n",
       "    <tr>\n",
       "      <th>9</th>\n",
       "      <td>man good</td>\n",
       "      <td>23</td>\n",
       "    </tr>\n",
       "    <tr>\n",
       "      <th>10</th>\n",
       "      <td>wife</td>\n",
       "      <td>22</td>\n",
       "    </tr>\n",
       "    <tr>\n",
       "      <th>11</th>\n",
       "      <td>karenina</td>\n",
       "      <td>20</td>\n",
       "    </tr>\n",
       "    <tr>\n",
       "      <th>12</th>\n",
       "      <td>stepan</td>\n",
       "      <td>20</td>\n",
       "    </tr>\n",
       "    <tr>\n",
       "      <th>13</th>\n",
       "      <td>arkadyevitch</td>\n",
       "      <td>20</td>\n",
       "    </tr>\n",
       "    <tr>\n",
       "      <th>14</th>\n",
       "      <td>levin</td>\n",
       "      <td>20</td>\n",
       "    </tr>\n",
       "    <tr>\n",
       "      <th>15</th>\n",
       "      <td>anna karenina</td>\n",
       "      <td>20</td>\n",
       "    </tr>\n",
       "    <tr>\n",
       "      <th>16</th>\n",
       "      <td>stepan arkadyevitch</td>\n",
       "      <td>20</td>\n",
       "    </tr>\n",
       "    <tr>\n",
       "      <th>17</th>\n",
       "      <td>liberal</td>\n",
       "      <td>19</td>\n",
       "    </tr>\n",
       "    <tr>\n",
       "      <th>18</th>\n",
       "      <td>love kitty</td>\n",
       "      <td>19</td>\n",
       "    </tr>\n",
       "    <tr>\n",
       "      <th>19</th>\n",
       "      <td>novel</td>\n",
       "      <td>18</td>\n",
       "    </tr>\n",
       "  </tbody>\n",
       "</table>\n",
       "</div>"
      ],
      "text/plain": [
       "                   Word  Frequency\n",
       "0                  good         91\n",
       "1                  love         70\n",
       "2                   man         69\n",
       "3                 woman         36\n",
       "4                  anna         28\n",
       "5              good man         28\n",
       "6                 kitty         27\n",
       "7              terrible         23\n",
       "8              feminist         23\n",
       "9              man good         23\n",
       "10                 wife         22\n",
       "11             karenina         20\n",
       "12               stepan         20\n",
       "13         arkadyevitch         20\n",
       "14                levin         20\n",
       "15        anna karenina         20\n",
       "16  stepan arkadyevitch         20\n",
       "17              liberal         19\n",
       "18           love kitty         19\n",
       "19                novel         18"
      ]
     },
     "execution_count": 18,
     "metadata": {},
     "output_type": "execute_result"
    }
   ],
   "source": [
    "# Show the 20 most commons\n",
    "freq = Counter(vocab)\n",
    "stop_df = pd.DataFrame(freq.most_common(20), columns = [\"Word\", \"Frequency\"])\n",
    "stop_df"
   ]
  },
  {
   "cell_type": "code",
   "execution_count": 19,
   "metadata": {},
   "outputs": [
    {
     "data": {
      "image/png": "[encoded data removed]",
      "text/plain": [
       "<PIL.Image.Image image mode=RGB size=600x300>"
      ]
     },
     "execution_count": 19,
     "metadata": {},
     "output_type": "execute_result"
    }
   ],
   "source": [
    "# Define a word cloud variable\n",
    "cloud = WordCloud(background_color = \"white\", \n",
    "                  max_words = 30, \n",
    "                  contour_width = 5, \n",
    "                  width = 600, height = 300, \n",
    "                  random_state = 4)\n",
    "\n",
    "# Process the word cloud\n",
    "cloud.generate(hr_str)\n",
    "\n",
    "# Visualize!\n",
    "cloud.to_image()"
   ]
  },
  {
   "cell_type": "code",
   "execution_count": 20,
   "metadata": {},
   "outputs": [
    {
     "data": {
      "image/png": "[encoded data removed]",
      "text/plain": [
       "<Figure size 432x288 with 1 Axes>"
      ]
     },
     "metadata": {
      "needs_background": "light"
     },
     "output_type": "display_data"
    }
   ],
   "source": [
    "# Visualize word frequencies in a horizontal bar plot\n",
    "\n",
    "sns.barplot(x = \"Frequency\",\n",
    "            y = \"Word\",\n",
    "            data = stop_df,\n",
    "            orient = \"h\");"
   ]
  },
  {
   "cell_type": "markdown",
   "metadata": {},
   "source": [
    "# Finally! Fit the topic model\n",
    "\n",
    "The input to LDA should be a DTM."
   ]
  },
  {
   "cell_type": "code",
   "execution_count": 21,
   "metadata": {},
   "outputs": [],
   "source": [
    "# Predetermine the number of topics\n",
    "\n",
    "n_topics = 5"
   ]
  },
  {
   "cell_type": "code",
   "execution_count": 22,
   "metadata": {},
   "outputs": [],
   "source": [
    "# CountVectorizer to create the DTM, using some arguments to filter words!\n",
    "\n",
    "tf_vectorizer = CountVectorizer(max_df = 0.9, # ignore terms that appear in more than 90% of the documents \n",
    "                                   max_features = 500) # using the 500 most-frequent words accross all documents \n",
    "\n",
    "# Fit\n",
    "cv = tf_vectorizer.fit_transform(human_rights[\"Text_processed\"])"
   ]
  },
  {
   "cell_type": "code",
   "execution_count": 23,
   "metadata": {},
   "outputs": [],
   "source": [
    "# Instantiate our LDA model (this might take a minute or two)\n",
    "lda = LatentDirichletAllocation(n_components = n_topics, \n",
    "                                max_iter = 20, # the maximum number of passes over the training data (aka epochs) \n",
    "                                random_state = 42) # setting random_state creates replicable results \n",
    "lda = lda.fit(cv)"
   ]
  },
  {
   "cell_type": "code",
   "execution_count": 24,
   "metadata": {},
   "outputs": [],
   "source": [
    "# Here is a function to print out the top words for each topic in a pretty way:\n",
    "\n",
    "def print_top_words(model, feature_names, n_top_words):\n",
    "    for topic_idx, topic in enumerate(model.components_):\n",
    "        print(\"\\nTopic #{}:\".format(topic_idx+1))\n",
    "        print(\", \".join([feature_names[i] for i in topic.argsort()[:-n_top_words - 1:-1]]))"
   ]
  },
  {
   "cell_type": "code",
   "execution_count": 25,
   "metadata": {},
   "outputs": [
    {
     "name": "stderr",
     "output_type": "stream",
     "text": [
      "C:\\Users\\user\\anaconda3\\lib\\site-packages\\sklearn\\utils\\deprecation.py:87: FutureWarning: Function get_feature_names is deprecated; get_feature_names is deprecated in 1.0 and will be removed in 1.2. Please use get_feature_names_out instead.\n",
      "  warnings.warn(msg, category=FutureWarning)\n"
     ]
    }
   ],
   "source": [
    "# Return the topics\n",
    "tf_feature_names = tf_vectorizer.get_feature_names()\n",
    "#print_top_words(lda, tf_feature_names, 20)"
   ]
  },
  {
   "cell_type": "code",
   "execution_count": 26,
   "metadata": {},
   "outputs": [
    {
     "name": "stderr",
     "output_type": "stream",
     "text": [
      "C:\\Users\\user\\anaconda3\\lib\\site-packages\\pyLDAvis\\_prepare.py:246: FutureWarning: In a future version of pandas all arguments of DataFrame.drop except for the argument 'labels' will be keyword-only.\n",
      "  default_term_info = default_term_info.sort_values(\n",
      "C:\\Users\\user\\anaconda3\\lib\\site-packages\\sklearn\\manifold\\_t_sne.py:780: FutureWarning: The default initialization in TSNE will change from 'random' to 'pca' in 1.2.\n",
      "  warnings.warn(\n",
      "C:\\Users\\user\\anaconda3\\lib\\site-packages\\sklearn\\manifold\\_t_sne.py:790: FutureWarning: The default learning rate in TSNE will change from 200.0 to 'auto' in 1.2.\n",
      "  warnings.warn(\n",
      "C:\\Users\\user\\anaconda3\\lib\\site-packages\\sklearn\\manifold\\_t_sne.py:819: FutureWarning: 'square_distances' has been introduced in 0.24 to help phase out legacy squaring behavior. The 'legacy' setting will be removed in 1.1 (renaming of 0.26), and the default setting will be changed to True. In 1.3, 'square_distances' will be removed altogether, and distances will be squared by default. Set 'square_distances'=True to silence this warning.\n",
      "  warnings.warn(\n"
     ]
    },
    {
     "data": {
      "text/html": [
       "\n",
       "<link rel=\"stylesheet\" type=\"text/css\" href=\"https://cdn.jsdelivr.net/gh/bmabey/pyLDAvis@3.3.1/pyLDAvis/js/ldavis.v1.0.0.css\">\n",
       "\n",
       "\n",
       "<div id=\"ldavis_el811229572104032162462797055\"></div>\n",
       "<script type=\"text/javascript\">\n",
       "\n",
       "var ldavis_el811229572104032162462797055_data = {\"mdsDat\": {\"x\": [150.22215270996094, 51.16336441040039, -73.1445541381836, -66.4101333618164, 54.41732406616211], \"y\": [-72.2695541381836, -159.968017578125, 21.523815155029297, -110.60643768310547, 12.44344425201416], \"topics\": [1, 2, 3, 4, 5], \"cluster\": [1, 1, 1, 1, 1], \"Freq\": [50.847324225603984, 22.65159846772413, 14.307430548708139, 12.086538366208156, 0.10710839175558284]}, \"tinfo\": {\"Term\": [\"still\", \"also\", \"terrible\", \"cheater\", \"feminist\", \"liar\", \"liberal\", \"conservative\", \"sure\", \"kitty\", \"weirdo\", \"interact\", \"know\", \"people\", \"says\", \"movie\", \"interested\", \"man\", \"even\", \"nerd\", \"fat\", \"big\", \"friend\", \"likes\", \"read\", \"realize\", \"loves\", \"going\", \"world\", \"book\", \"movie\", \"says\", \"nerd\", \"big\", \"fat\", \"likes\", \"loves\", \"adaptation\", \"hates\", \"watch\", \"friend\", \"peasant\", \"falls\", \"family\", \"house\", \"household\", \"drunk\", \"able\", \"liked\", \"approach\", \"home\", \"considered\", \"shtcherbatskys\", \"dandy\", \"chapter\", \"suitors\", \"goes\", \"girl\", \"well\", \"make\", \"arkadyevitch\", \"stepan\", \"husband\", \"guy\", \"afraid\", \"married\", \"get\", \"man\", \"tolstoy\", \"also\", \"novel\", \"kitty\", \"bit\", \"dick\", \"book\", \"leo\", \"interested\", \"terrible\", \"care\", \"results\", \"lives\", \"sciences\", \"life\", \"sorry\", \"suffering\", \"abstract\", \"families\", \"friends\", \"houses\", \"jobs\", \"problems\", \"right\", \"student\", \"taste\", \"angry\", \"dies\", \"cause\", \"chief\", \"fault\", \"struggles\", \"want\", \"felt\", \"ambitious\", \"clothes\", \"conceive\", \"content\", \"feminist\", \"little\", \"feeling\", \"piece\", \"work\", \"time\", \"man\", \"going\", \"book\", \"dick\", \"novel\", \"arkadyevitch\", \"stepan\", \"person\", \"bit\", \"district\", \"children\", \"century\", \"th\", \"shit\", \"like\", \"could\", \"lazy\", \"liar\", \"interact\", \"weirdo\", \"realize\", \"attention\", \"center\", \"used\", \"cheater\", \"conservative\", \"know\", \"people\", \"idea\", \"liberal\", \"adultery\", \"centered\", \"character\", \"day\", \"deserve\", \"form\", \"main\", \"needs\", \"point\", \"problem\", \"property\", \"realizes\", \"serial\", \"shave\", \"treated\", \"worst\", \"even\", \"kitty\", \"bitch\", \"also\", \"russian\", \"wants\", \"bad\", \"dick\", \"man\", \"one\", \"tolstoy\", \"bit\", \"husband\", \"novel\", \"knew\", \"shit\", \"best\", \"still\", \"sure\", \"enough\", \"pursue\", \"rest\", \"boy\", \"cigar\", \"creature\", \"deal\", \"deprecating\", \"easy\", \"former\", \"four\", \"genius\", \"goddess\", \"handle\", \"handsome\", \"hard\", \"inept\", \"intelligent\", \"late\", \"long\", \"lover\", \"low\", \"mama\", \"opinions\", \"pregnant\", \"shtcherbatsky\", \"sisters\", \"smoke\", \"feminist\", \"dolly\", \"world\", \"also\", \"read\", \"awkward\", \"man\", \"person\", \"going\", \"book\", \"brother\", \"oblonsky\", \"kitty\", \"guy\", \"bring\", \"law\", \"part\", \"coming\", \"farmer\", \"lot\", \"drawn\", \"phenomena\", \"physiological\", \"psychological\", \"finds\", \"boy\", \"cigar\", \"creature\", \"deal\", \"deprecating\", \"easy\", \"former\", \"four\", \"genius\", \"goddess\", \"handle\", \"handsome\", \"hard\", \"inept\", \"intelligent\", \"late\", \"long\", \"lover\", \"low\", \"mama\", \"opinions\", \"pregnant\", \"shtcherbatsky\", \"sisters\", \"smoke\", \"social\", \"socially\", \"son\", \"susceptible\", \"thirty\", \"bring\", \"law\", \"part\", \"one\", \"shit\", \"bitch\", \"reconciliation\", \"tragic\", \"coming\", \"novel\", \"fiction\", \"major\", \"regarded\", \"knew\", \"guy\", \"like\", \"conservative\", \"century\", \"th\", \"first\", \"published\", \"works\", \"husband\", \"bit\", \"finds\", \"tolstoy\", \"leo\", \"russian\", \"man\", \"afraid\"], \"Freq\": [19.0, 40.0, 18.0, 12.0, 17.0, 10.0, 14.0, 11.0, 6.0, 21.0, 5.0, 5.0, 7.0, 7.0, 13.0, 13.0, 6.0, 56.0, 6.0, 11.0, 10.0, 10.0, 12.0, 9.0, 7.0, 4.0, 8.0, 10.0, 6.0, 11.0, 13.474052959977428, 13.474052145664462, 10.814700267981921, 9.928249310135563, 9.928249310135563, 9.04179832905088, 8.15534649345848, 6.382445103295205, 6.3824442701450534, 5.495994389527543, 11.701231584990184, 4.609542947205883, 4.609542605938446, 3.7230921105247807, 3.723091680371734, 3.723091680371734, 3.7230911764385577, 3.7230911026624467, 9.041913661491671, 2.836641277716774, 2.836640886809004, 2.8366404958979343, 2.8366404958979343, 2.8366404919937303, 2.8366402019194332, 2.836640050659342, 7.268928905033231, 7.269074187535771, 7.268981608237198, 6.382499486297407, 13.474179398664313, 13.474179398664313, 10.814872542601107, 9.041957373617304, 5.4961049175350745, 4.609537639212421, 4.60952716003338, 31.201613617117424, 7.269020178727215, 20.564154519804692, 9.928306980356611, 11.700618096857031, 7.268761573653189, 7.268741776135455, 5.495727464497544, 4.609639294857305, 6.398119991927885, 16.542778467005405, 3.2770854365628166, 3.2770854365628166, 2.4968267847261223, 2.4968267847261223, 2.4968265469049236, 2.4968260712578503, 2.4968260712578503, 1.7165681113369973, 1.7165681113369973, 1.7165681113369973, 1.7165681113369973, 1.7165681113369973, 1.7165681113369973, 1.7165681113369973, 1.7165681113369973, 1.7165681113369973, 1.7165677366587764, 1.7165677366587764, 1.7165673619766129, 1.7165673619766129, 1.7165673619766129, 1.7165673619766129, 1.7165673619766129, 3.2772592467184367, 0.9363093479069252, 0.9363093479069252, 0.9363093479069252, 0.9363093479069252, 9.518997596464683, 1.7165754772105608, 1.7165566921974038, 1.7165566921974038, 3.2772255861945787, 3.27718208133091, 15.76207714039009, 4.0574663003929645, 3.277152768972638, 3.277093018528832, 3.2770488898786727, 3.2771203425812057, 3.2771203425812057, 2.496847400919705, 2.496908532600056, 1.7166932854112744, 1.7166873143396795, 1.716679149177232, 1.716679149177232, 1.7166684800660634, 1.7166545235422301, 1.7166466284395547, 1.7166453094332847, 9.852849257268426, 4.995810647720291, 4.995810647720291, 3.6080853252905936, 2.9142226608456614, 2.9142226608456614, 2.9142226608456614, 10.547719902908602, 9.160686952928405, 4.9959777391267, 4.996456435706415, 2.914333237125234, 9.854152872682665, 0.8326345706522009, 0.8326345706522009, 0.8326345706522009, 0.8326345706522009, 0.8326345706522009, 0.8326345706522009, 0.8326345706522009, 0.8326345706522009, 0.8326345706522009, 0.8326345706522009, 0.8326345706522009, 0.8326345706522009, 0.8326345706522009, 0.8326345706522009, 0.8326345706522009, 0.8326345706522009, 3.608324248223037, 7.078308012378693, 2.914701567643095, 7.771915140230118, 2.2206381006729012, 2.2205574903525327, 1.5265469134704228, 2.2204746669230913, 3.607965345254726, 1.5266916420067413, 1.5266293683007075, 1.5265935618182427, 1.5265902908411921, 1.526579556023964, 0.8327103897306504, 0.8327081492538531, 0.8327050241110189, 17.86989871422561, 6.043587254591312, 2.1021169679772638, 2.1021169679772638, 1.4452052337029537, 0.7882934454386865, 0.7882934454386865, 0.7882934454386865, 0.7882934454386865, 0.7882934454386865, 0.7882934454386865, 0.7882934454386865, 0.7882934454386865, 0.7882934454386865, 0.7882934454386865, 0.7882934454386865, 0.7882934454386865, 0.7882934454386865, 0.7882934454386865, 0.7882934454386865, 0.7882934454386865, 0.7882934454386865, 0.7882934454386865, 0.7882934454386865, 0.7882934454386865, 0.7882934454386865, 0.7882934454386865, 0.7882934454386865, 0.7882934454386865, 0.7882934454386865, 7.357542993296752, 1.4453008040710338, 2.759418363355534, 10.643326879758057, 2.102221376411787, 1.4453135718127545, 6.044064374971791, 2.102280073047737, 2.1022950732256858, 2.102258570571619, 1.4452903936183088, 1.4453399554193225, 2.1021364821199913, 1.4453508576032303, 0.7883983507763965, 0.7883983507763965, 0.7883937959961349, 0.788369689447889, 0.7883643837224557, 0.7883643837224557, 0.7883598295519981, 0.7883598295519981, 0.7883598295519981, 0.7883598295519981, 0.7883554222887256, 0.003372082628077312, 0.003372082628077312, 0.003372082628077312, 0.003372082628077312, 0.003372082628077312, 0.003372082628077312, 0.003372082628077312, 0.003372082628077312, 0.003372082628077312, 0.003372082628077312, 0.003372082628077312, 0.003372082628077312, 0.003372082628077312, 0.003372082628077312, 0.003372082628077312, 0.003372082628077312, 0.003372082628077312, 0.003372082628077312, 0.003372082628077312, 0.003372082628077312, 0.003372082628077312, 0.003372082628077312, 0.003372082628077312, 0.003372082628077312, 0.003372082628077312, 0.003372082628077312, 0.003372082628077312, 0.003372082628077312, 0.003372082628077312, 0.003372082628077312, 0.0033721415339771827, 0.0033721415339771827, 0.0033721403206639503, 0.0033721373173516162, 0.003372136859171205, 0.0033721349081244916, 0.0033721321974698962, 0.0033721321974698962, 0.003372131479361098, 0.003372131457480536, 0.0033721309841977, 0.0033721309841977, 0.0033721309841977, 0.0033721292038848896, 0.0033721287833804706, 0.0033721287107854655, 0.003372128373824241, 0.0033721280272840702, 0.0033721280272840702, 0.0033721278769515838, 0.00337212686495967, 0.0033721263948763335, 0.003372125492712876, 0.0033721253759560936, 0.0033721251181162175, 0.003372124927763145, 0.0033721246761728146, 0.003372123145098145, 0.0033721230370519105, 0.0033721224817677875], \"Total\": [19.0, 40.0, 18.0, 12.0, 17.0, 10.0, 14.0, 11.0, 6.0, 21.0, 5.0, 5.0, 7.0, 7.0, 13.0, 13.0, 6.0, 56.0, 6.0, 11.0, 10.0, 10.0, 12.0, 9.0, 7.0, 4.0, 8.0, 10.0, 6.0, 11.0, 13.903632375220717, 13.903631865460232, 11.244279579475526, 10.357828613290868, 10.357828613290868, 9.471377633928853, 8.584926132457268, 6.812024535712804, 6.812024014160047, 5.925573707175052, 12.787662528823697, 5.039122456140712, 5.039122247462816, 4.15267156770478, 4.152671298428856, 4.152671298428856, 4.152670993542377, 4.152670957935168, 10.251649485625643, 3.2662206703770624, 3.266220431530883, 3.2662201926820638, 3.2662201926820638, 3.26622019883275, 3.2662200086507034, 3.2662199356466894, 8.392344923318202, 8.478754263619962, 8.478743920472029, 7.592288782695078, 17.71856003160353, 17.71856003160353, 14.069194242882233, 11.565449690863089, 6.705843960047126, 5.732983570775485, 5.73298113605813, 56.61909260077108, 9.86645641206033, 40.698316224130245, 15.523511908300089, 21.82016894776058, 12.083870180787846, 12.901064445447982, 11.017283952902961, 6.5132499970603535, 6.848937462595629, 18.57251526247584, 3.727902919773541, 3.727902919773541, 2.9476442765149833, 2.9476442765149833, 2.947644134415304, 2.9476438502121254, 2.9476438502121254, 2.167385620729991, 2.167385620729991, 2.167385620729991, 2.167385620729991, 2.167385620729991, 2.167385620729991, 2.167385620729991, 2.167385620729991, 2.167385620729991, 2.1673853968571266, 2.1673853968571266, 2.1673851729810565, 2.1673851729810565, 2.1673851729810565, 2.1673851729810565, 2.1673851729810565, 4.61432839762877, 1.387126912612474, 1.387126912612474, 1.387126912612474, 1.387126912612474, 17.195975728810083, 2.8242981612316775, 2.8612462989430263, 2.8612462989430263, 6.387235495073451, 6.387241212666656, 56.61909260077108, 10.02462013463991, 11.017283952902961, 12.901064445447982, 15.523511908300089, 17.71856003160353, 17.71856003160353, 8.464122267286978, 12.083870180787846, 3.053817364064367, 3.0538182625652075, 3.0538188241199125, 3.0538188241199125, 3.74766238633296, 4.634121280404965, 3.0538244508351258, 3.7107253839535463, 10.320945807066897, 5.463907202136497, 5.463907202136497, 4.076181883467425, 3.3823192223587855, 3.3823192223587855, 3.3823192223587855, 12.787429148431945, 11.293373289679394, 7.024403167176998, 7.1304636667384935, 4.162563518888467, 14.523394817102712, 1.300731185833822, 1.300731185833822, 1.300731185833822, 1.300731185833822, 1.300731185833822, 1.300731185833822, 1.300731185833822, 1.300731185833822, 1.300731185833822, 1.300731185833822, 1.300731185833822, 1.300731185833822, 1.300731185833822, 1.300731185833822, 1.300731185833822, 1.300731185833822, 6.735467337199631, 21.82016894776058, 8.258998186725838, 40.698316224130245, 6.128016322280612, 7.01447674783738, 4.2120215582915055, 12.901064445447982, 56.61909260077108, 7.863984791667349, 9.86645641206033, 12.083870180787846, 14.069194242882233, 15.523511908300089, 2.967412828108701, 3.74766238633296, 2.1871605004498145, 19.229270237616856, 6.519074003867828, 2.577603732567234, 2.577603732567234, 1.920692010280179, 1.2637802596800962, 1.2637802596800962, 1.2637802596800962, 1.2637802596800962, 1.2637802596800962, 1.2637802596800962, 1.2637802596800962, 1.2637802596800962, 1.2637802596800962, 1.2637802596800962, 1.2637802596800962, 1.2637802596800962, 1.2637802596800962, 1.2637802596800962, 1.2637802596800962, 1.2637802596800962, 1.2637802596800962, 1.2637802596800962, 1.2637802596800962, 1.2637802596800962, 1.2637802596800962, 1.2637802596800962, 1.2637802596800962, 1.2637802596800962, 1.2637802596800962, 17.195975728810083, 2.7009316529448073, 6.48143216487134, 40.698316224130245, 7.00982112808246, 3.6935546901738086, 56.61909260077108, 8.464122267286978, 10.02462013463991, 11.017283952902961, 5.466464843408749, 7.026968292522942, 21.82016894776058, 11.565449690863089, 2.9304502285122345, 2.9304502285122345, 2.930452248308478, 3.8169172781334386, 2.1502043802231015, 2.1502043802231015, 2.150206049049913, 2.150206049049913, 2.150206049049913, 2.150206049049913, 3.816915608899961, 1.2637802596800962, 1.2637802596800962, 1.2637802596800962, 1.2637802596800962, 1.2637802596800962, 1.2637802596800962, 1.2637802596800962, 1.2637802596800962, 1.2637802596800962, 1.2637802596800962, 1.2637802596800962, 1.2637802596800962, 1.2637802596800962, 1.2637802596800962, 1.2637802596800962, 1.2637802596800962, 1.2637802596800962, 1.2637802596800962, 1.2637802596800962, 1.2637802596800962, 1.2637802596800962, 1.2637802596800962, 1.2637802596800962, 1.2637802596800962, 1.2637802596800962, 1.2637802596800962, 1.2637802596800962, 1.2637802596800962, 1.2637802596800962, 1.2637802596800962, 2.9304502285122345, 2.9304502285122345, 2.930452248308478, 7.863984791667349, 3.74766238633296, 8.258998186725838, 2.2735697629817198, 2.2735697629817198, 3.8169172781334386, 15.523511908300089, 2.273570201978187, 2.273570201978187, 2.273570201978187, 2.967412828108701, 11.565449690863089, 4.634121280404965, 11.293373289679394, 3.0538188241199125, 3.0538188241199125, 6.407040759112349, 4.740334886641438, 3.1600257078315197, 14.069194242882233, 12.083870180787846, 3.816915608899961, 9.86645641206033, 6.5132499970603535, 6.128016322280612, 56.61909260077108, 6.705843960047126], \"Category\": [\"Default\", \"Default\", \"Default\", \"Default\", \"Default\", \"Default\", \"Default\", \"Default\", \"Default\", \"Default\", \"Default\", \"Default\", \"Default\", \"Default\", \"Default\", \"Default\", \"Default\", \"Default\", \"Default\", \"Default\", \"Default\", \"Default\", \"Default\", \"Default\", \"Default\", \"Default\", \"Default\", \"Default\", \"Default\", \"Default\", \"Topic1\", \"Topic1\", \"Topic1\", \"Topic1\", \"Topic1\", \"Topic1\", \"Topic1\", \"Topic1\", \"Topic1\", \"Topic1\", \"Topic1\", \"Topic1\", \"Topic1\", \"Topic1\", \"Topic1\", \"Topic1\", \"Topic1\", \"Topic1\", \"Topic1\", \"Topic1\", \"Topic1\", \"Topic1\", \"Topic1\", \"Topic1\", \"Topic1\", \"Topic1\", \"Topic1\", \"Topic1\", \"Topic1\", \"Topic1\", \"Topic1\", \"Topic1\", \"Topic1\", \"Topic1\", \"Topic1\", \"Topic1\", \"Topic1\", \"Topic1\", \"Topic1\", \"Topic1\", \"Topic1\", \"Topic1\", \"Topic1\", \"Topic1\", \"Topic1\", \"Topic1\", \"Topic2\", \"Topic2\", \"Topic2\", \"Topic2\", \"Topic2\", \"Topic2\", \"Topic2\", \"Topic2\", \"Topic2\", \"Topic2\", \"Topic2\", \"Topic2\", \"Topic2\", \"Topic2\", \"Topic2\", \"Topic2\", \"Topic2\", \"Topic2\", \"Topic2\", \"Topic2\", \"Topic2\", \"Topic2\", \"Topic2\", \"Topic2\", \"Topic2\", \"Topic2\", \"Topic2\", \"Topic2\", \"Topic2\", \"Topic2\", \"Topic2\", \"Topic2\", \"Topic2\", \"Topic2\", \"Topic2\", \"Topic2\", \"Topic2\", \"Topic2\", \"Topic2\", \"Topic2\", \"Topic2\", \"Topic2\", \"Topic2\", \"Topic2\", \"Topic2\", \"Topic2\", \"Topic2\", \"Topic2\", \"Topic2\", \"Topic2\", \"Topic2\", \"Topic2\", \"Topic2\", \"Topic3\", \"Topic3\", \"Topic3\", \"Topic3\", \"Topic3\", \"Topic3\", \"Topic3\", \"Topic3\", \"Topic3\", \"Topic3\", \"Topic3\", \"Topic3\", \"Topic3\", \"Topic3\", \"Topic3\", \"Topic3\", \"Topic3\", \"Topic3\", \"Topic3\", \"Topic3\", \"Topic3\", \"Topic3\", \"Topic3\", \"Topic3\", \"Topic3\", \"Topic3\", \"Topic3\", \"Topic3\", \"Topic3\", \"Topic3\", \"Topic3\", \"Topic3\", \"Topic3\", \"Topic3\", \"Topic3\", \"Topic3\", \"Topic3\", \"Topic3\", \"Topic3\", \"Topic3\", \"Topic3\", \"Topic3\", \"Topic3\", \"Topic3\", \"Topic3\", \"Topic3\", \"Topic4\", \"Topic4\", \"Topic4\", \"Topic4\", \"Topic4\", \"Topic4\", \"Topic4\", \"Topic4\", \"Topic4\", \"Topic4\", \"Topic4\", \"Topic4\", \"Topic4\", \"Topic4\", \"Topic4\", \"Topic4\", \"Topic4\", \"Topic4\", \"Topic4\", \"Topic4\", \"Topic4\", \"Topic4\", \"Topic4\", \"Topic4\", \"Topic4\", \"Topic4\", \"Topic4\", \"Topic4\", \"Topic4\", \"Topic4\", \"Topic4\", \"Topic4\", \"Topic4\", \"Topic4\", \"Topic4\", \"Topic4\", \"Topic4\", \"Topic4\", \"Topic4\", \"Topic4\", \"Topic4\", \"Topic4\", \"Topic4\", \"Topic4\", \"Topic4\", \"Topic4\", \"Topic4\", \"Topic4\", \"Topic4\", \"Topic4\", \"Topic4\", \"Topic4\", \"Topic4\", \"Topic4\", \"Topic4\", \"Topic5\", \"Topic5\", \"Topic5\", \"Topic5\", \"Topic5\", \"Topic5\", \"Topic5\", \"Topic5\", \"Topic5\", \"Topic5\", \"Topic5\", \"Topic5\", \"Topic5\", \"Topic5\", \"Topic5\", \"Topic5\", \"Topic5\", \"Topic5\", \"Topic5\", \"Topic5\", \"Topic5\", \"Topic5\", \"Topic5\", \"Topic5\", \"Topic5\", \"Topic5\", \"Topic5\", \"Topic5\", \"Topic5\", \"Topic5\", \"Topic5\", \"Topic5\", \"Topic5\", \"Topic5\", \"Topic5\", \"Topic5\", \"Topic5\", \"Topic5\", \"Topic5\", \"Topic5\", \"Topic5\", \"Topic5\", \"Topic5\", \"Topic5\", \"Topic5\", \"Topic5\", \"Topic5\", \"Topic5\", \"Topic5\", \"Topic5\", \"Topic5\", \"Topic5\", \"Topic5\", \"Topic5\", \"Topic5\", \"Topic5\", \"Topic5\", \"Topic5\", \"Topic5\", \"Topic5\"], \"logprob\": [30.0, 29.0, 28.0, 27.0, 26.0, 25.0, 24.0, 23.0, 22.0, 21.0, 20.0, 19.0, 18.0, 17.0, 16.0, 15.0, 14.0, 13.0, 12.0, 11.0, 10.0, 9.0, 8.0, 7.0, 6.0, 5.0, 4.0, 3.0, 2.0, 1.0, -4.0267, -4.0267, -4.2466, -4.3321, -4.3321, -4.4256, -4.5288, -4.7739, -4.7739, -4.9235, -4.1678, -5.0994, -5.0994, -5.3129, -5.3129, -5.3129, -5.3129, -5.3129, -4.4256, -5.5849, -5.5849, -5.5849, -5.5849, -5.5849, -5.5849, -5.5849, -4.6439, -4.6439, -4.6439, -4.7739, -4.0267, -4.0267, -4.2466, -4.4256, -4.9235, -5.0994, -5.0994, -3.187, -4.6439, -3.604, -4.3321, -4.1679, -4.6439, -4.6439, -4.9235, -5.0994, -3.9629, -3.013, -4.6319, -4.6319, -4.9039, -4.9039, -4.9039, -4.9039, -4.9039, -5.2786, -5.2786, -5.2786, -5.2786, -5.2786, -5.2786, -5.2786, -5.2786, -5.2786, -5.2786, -5.2786, -5.2786, -5.2786, -5.2786, -5.2786, -5.2786, -4.6319, -5.8847, -5.8847, -5.8847, -5.8847, -3.5656, -5.2786, -5.2786, -5.2786, -4.6319, -4.6319, -3.0613, -4.4183, -4.6319, -4.6319, -4.632, -4.6319, -4.6319, -4.9039, -4.9039, -5.2785, -5.2785, -5.2785, -5.2785, -5.2785, -5.2785, -5.2785, -5.2785, -3.0717, -3.7509, -3.7509, -4.0763, -4.2898, -4.2898, -4.2898, -3.0035, -3.1445, -3.7508, -3.7507, -4.2898, -3.0716, -5.5426, -5.5426, -5.5426, -5.5426, -5.5426, -5.5426, -5.5426, -5.5426, -5.5426, -5.5426, -5.5426, -5.5426, -5.5426, -5.5426, -5.5426, -5.5426, -4.0762, -3.4024, -4.2897, -3.3089, -4.5617, -4.5617, -4.9364, -4.5617, -4.0763, -4.9363, -4.9364, -4.9364, -4.9364, -4.9364, -5.5425, -5.5425, -5.5425, -2.3076, -3.3918, -4.4478, -4.4478, -4.8225, -5.4287, -5.4287, -5.4287, -5.4287, -5.4287, -5.4287, -5.4287, -5.4287, -5.4287, -5.4287, -5.4287, -5.4287, -5.4287, -5.4287, -5.4287, -5.4287, -5.4287, -5.4287, -5.4287, -5.4287, -5.4287, -5.4287, -5.4287, -5.4287, -5.4287, -3.195, -4.8224, -4.1757, -2.8258, -4.4478, -4.8224, -3.3917, -4.4477, -4.4477, -4.4478, -4.8225, -4.8224, -4.4478, -4.8224, -5.4285, -5.4285, -5.4285, -5.4286, -5.4286, -5.4286, -5.4286, -5.4286, -5.4286, -5.4286, -5.4286, -6.157, -6.157, -6.157, -6.157, -6.157, -6.157, -6.157, -6.157, -6.157, -6.157, -6.157, -6.157, -6.157, -6.157, -6.157, -6.157, -6.157, -6.157, -6.157, -6.157, -6.157, -6.157, -6.157, -6.157, -6.157, -6.157, -6.157, -6.157, -6.157, -6.157, -6.157, -6.157, -6.157, -6.157, -6.157, -6.157, -6.157, -6.157, -6.157, -6.157, -6.157, -6.157, -6.157, -6.157, -6.157, -6.157, -6.157, -6.157, -6.157, -6.157, -6.157, -6.157, -6.157, -6.157, -6.157, -6.157, -6.157, -6.157, -6.157, -6.157], \"loglift\": [30.0, 29.0, 28.0, 27.0, 26.0, 25.0, 24.0, 23.0, 22.0, 21.0, 20.0, 19.0, 18.0, 17.0, 16.0, 15.0, 14.0, 13.0, 12.0, 11.0, 10.0, 9.0, 8.0, 7.0, 6.0, 5.0, 4.0, 3.0, 2.0, 1.0, 0.645, 0.645, 0.6374, 0.634, 0.634, 0.6299, 0.625, 0.6112, 0.6112, 0.6011, 0.5876, 0.5872, 0.5872, 0.5671, 0.5671, 0.5671, 0.5671, 0.5671, 0.5508, 0.5353, 0.5353, 0.5353, 0.5353, 0.5353, 0.5353, 0.5353, 0.5326, 0.5224, 0.5224, 0.5028, 0.4025, 0.4025, 0.4133, 0.4302, 0.4774, 0.4582, 0.4582, 0.0805, 0.3708, -0.0063, 0.2294, 0.0531, 0.1681, 0.1026, -0.0192, 0.3307, 1.4169, 1.3692, 1.356, 1.356, 1.319, 1.319, 1.319, 1.319, 1.319, 1.2517, 1.2517, 1.2517, 1.2517, 1.2517, 1.2517, 1.2517, 1.2517, 1.2517, 1.2517, 1.2517, 1.2517, 1.2517, 1.2517, 1.2517, 1.2517, 1.1428, 1.0919, 1.0919, 1.0919, 1.0919, 0.8936, 0.987, 0.974, 0.974, 0.8176, 0.8176, 0.2062, 0.5805, 0.2724, 0.1146, -0.0705, -0.2027, -0.2027, 0.2641, -0.0919, 0.9089, 0.9089, 0.9089, 0.9089, 0.7042, 0.4919, 0.9089, 0.7141, 1.898, 1.8548, 1.8548, 1.8224, 1.7954, 1.7954, 1.7954, 1.7518, 1.7351, 1.6036, 1.5887, 1.5879, 1.5565, 1.4983, 1.4983, 1.4983, 1.4983, 1.4983, 1.4983, 1.4983, 1.4983, 1.4983, 1.4983, 1.4983, 1.4983, 1.4983, 1.4983, 1.4983, 1.4983, 1.3202, 0.8186, 0.9029, 0.2887, 0.9293, 0.7942, 0.9295, 0.1848, -0.8088, 0.3052, 0.0783, -0.1244, -0.2766, -0.3749, 0.6736, 0.4402, 0.9787, 2.0398, 2.0373, 1.9092, 1.9092, 1.8286, 1.6411, 1.6411, 1.6411, 1.6411, 1.6411, 1.6411, 1.6411, 1.6411, 1.6411, 1.6411, 1.6411, 1.6411, 1.6411, 1.6411, 1.6411, 1.6411, 1.6411, 1.6411, 1.6411, 1.6411, 1.6411, 1.6411, 1.6411, 1.6411, 1.6411, 1.2641, 1.4878, 1.2592, 0.7718, 0.9088, 1.1748, -0.1242, 0.7203, 0.5511, 0.4566, 0.7828, 0.5317, -0.2268, 0.0334, 0.8002, 0.8002, 0.8002, 0.5358, 1.1097, 1.1097, 1.1097, 1.1097, 1.1097, 1.1097, 0.5358, 0.9128, 0.9128, 0.9128, 0.9128, 0.9128, 0.9128, 0.9128, 0.9128, 0.9128, 0.9128, 0.9128, 0.9128, 0.9128, 0.9128, 0.9128, 0.9128, 0.9128, 0.9128, 0.9128, 0.9128, 0.9128, 0.9128, 0.9128, 0.9128, 0.9128, 0.9128, 0.9128, 0.9128, 0.9128, 0.9128, 0.0717, 0.0717, 0.0717, -0.9154, -0.1743, -0.9644, 0.3255, 0.3255, -0.1926, -1.5955, 0.3255, 0.3255, 0.3255, 0.0592, -1.3011, -0.3866, -1.2773, 0.0305, 0.0305, -0.7105, -0.4092, -0.0037, -1.4971, -1.345, -0.1926, -1.1423, -0.727, -0.666, -2.8895, -0.7561]}, \"token.table\": {\"Topic\": [1, 2, 1, 3, 1, 2, 1, 2, 3, 4, 2, 2, 1, 1, 2, 3, 3, 1, 4, 2, 3, 4, 1, 3, 1, 1, 2, 3, 4, 1, 2, 3, 4, 1, 2, 4, 4, 1, 2, 4, 1, 4, 2, 2, 3, 3, 1, 2, 1, 3, 1, 3, 2, 1, 2, 4, 2, 1, 2, 4, 2, 1, 2, 3, 1, 2, 1, 2, 4, 1, 3, 4, 4, 3, 1, 2, 3, 2, 1, 2, 2, 4, 1, 4, 1, 4, 4, 1, 3, 1, 2, 1, 1, 4, 1, 2, 2, 3, 1, 2, 2, 4, 1, 2, 1, 2, 4, 1, 2, 3, 3, 4, 4, 1, 4, 2, 4, 1, 3, 1, 2, 4, 1, 3, 1, 2, 4, 1, 2, 4, 4, 4, 4, 1, 1, 1, 1, 2, 1, 2, 3, 4, 2, 3, 4, 4, 3, 2, 2, 1, 2, 3, 4, 1, 2, 3, 2, 3, 4, 1, 2, 4, 1, 2, 4, 1, 2, 3, 3, 1, 3, 4, 2, 1, 2, 3, 1, 2, 1, 2, 4, 2, 4, 1, 4, 4, 1, 4, 3, 1, 2, 1, 2, 4, 1, 2, 3, 4, 1, 3, 1, 3, 1, 1, 2, 3, 4, 1, 2, 4, 1, 2, 3, 4, 4, 1, 2, 4, 1, 1, 2, 3, 1, 2, 4, 1, 4, 1, 4, 2, 3, 3, 4, 3, 2, 3, 1, 4, 1, 2, 3, 4, 1, 4, 3, 3, 1, 2, 1, 2, 4, 2, 2, 1, 2, 3, 1, 2, 3, 3, 1, 2, 3, 4, 1, 4, 4, 4, 4, 4, 2, 1, 2, 3, 1, 4, 2, 2, 2, 1, 4, 4, 2, 1, 2, 3, 1, 2, 4, 1, 2, 1, 2, 3, 1, 2, 3, 3, 2, 1, 2, 3, 1, 3, 1, 2, 1, 2, 1, 2, 1, 2, 3, 4, 3], \"Freq\": [0.9632354791695125, 0.922770724725204, 0.8807954182408366, 0.7687983581011468, 0.7456183039434848, 0.14912366078869696, 0.5159918627677523, 0.04914208216835736, 0.19656832867342944, 0.2702814519259655, 0.7209145687445639, 0.9227708200397363, 0.918492748272783, 0.7336939331871598, 0.16931398458165225, 0.056437994860550754, 0.8869653639338746, 0.541483792109732, 0.270741896054866, 0.4748313778363582, 0.4748313778363582, 0.2374156889181791, 0.457213816633182, 0.457213816633182, 0.9654533178091291, 0.5792846079337484, 0.16550988798107094, 0.16550988798107094, 0.08275494399053547, 0.3632401814570814, 0.24216012097138762, 0.3632401814570814, 0.12108006048569381, 0.4538323620752774, 0.27229941724516643, 0.18153294483011095, 0.7912768001718372, 0.3412444921501676, 0.3412444921501676, 0.3412444921501676, 0.7317343318914864, 0.1829335829728716, 0.8047419861948124, 0.9227709153556531, 0.8869653639338746, 0.7687983581011468, 0.32745884991660973, 0.6549176998332195, 0.9184929343566539, 0.7687983581011468, 0.15640360363171588, 0.8602198199744373, 0.9227709153556531, 0.32745891013173783, 0.6549178202634757, 0.7912768001718372, 0.7209145687445639, 0.5239830612671927, 0.26199153063359637, 0.26199153063359637, 0.7209145687445639, 0.08854750253530218, 0.08854750253530218, 0.7969275228177196, 0.9184928826052428, 0.7209145687445639, 0.32745824656899686, 0.6549164931379937, 0.7912768001718372, 0.91849288087561, 0.7687983581011468, 0.7912768001718372, 0.7912768001718372, 0.7687983581011468, 0.5425908869457576, 0.23253895154818185, 0.1550259676987879, 0.9227708200397363, 0.3274590064774163, 0.6549180129548327, 0.3702426156951091, 0.3702426156951091, 0.46507170810065324, 0.46507170810065324, 0.9632354709102193, 0.7912768001718372, 0.7759144567997837, 0.44540339219391034, 0.5938711895918805, 0.9922362972078095, 0.922770724725204, 0.9632353377300283, 0.4650720690543109, 0.4650720690543109, 0.9654533178091291, 0.9227709153556531, 0.698996098566845, 0.3494980492834225, 0.21671626157208143, 0.6501487847162443, 0.5815314093079366, 0.40707198651555565, 0.43983686940034683, 0.43983686940034683, 0.5239832904182029, 0.26199164520910145, 0.26199164520910145, 0.6243131814498043, 0.31215659072490215, 0.15607829536245107, 0.7687983581011468, 0.7912768001718372, 0.7912768001718372, 0.9384044951883672, 0.07820037459903059, 0.922770724725204, 0.7912768001718372, 0.8721465990097237, 0.17442931980194473, 0.8255929800955671, 0.11794185429936674, 0.7912768001718372, 0.834093458259853, 0.11915620832283615, 0.399017613263775, 0.399017613263775, 0.1995088066318875, 0.7781798581606525, 0.08646442868451694, 0.08646442868451694, 0.7912768001718372, 0.7912768001718372, 0.7912768001718372, 0.8807954856776626, 0.9184928154386368, 0.9632354001900854, 0.9632354001900854, 0.922770724725204, 0.7818500342025647, 0.07107727583659679, 0.14215455167319357, 0.07107727583659679, 0.2402365742798397, 0.7207097228395191, 0.7912768001718372, 0.7912768001718372, 0.9150960686237314, 0.8760482969465024, 0.922770724725204, 0.5499499123370247, 0.04582915936141873, 0.3208041155299311, 0.09165831872283746, 0.3369938926352071, 0.3369938926352071, 0.3369938926352071, 0.2847216983992919, 0.7118042459982298, 0.7912768001718372, 0.3412444921501676, 0.3412444921501676, 0.3412444921501676, 0.26948908812394046, 0.5389781762478809, 0.26948908812394046, 0.7676659121416599, 0.15353318242833197, 0.15353318242833197, 0.9689034500261458, 0.27541770022595613, 0.6885442505648903, 0.06885442505648903, 0.6785079571339505, 0.43158128132227574, 0.43158128132227574, 0.21579064066113787, 0.8779075028481373, 0.09754527809423748, 0.9502313547038543, 0.7081405311427174, 0.3540702655713587, 0.6785079244245209, 0.7912768001718372, 0.4650720690543109, 0.4650720690543109, 0.7912768001718372, 0.9318659096849045, 0.7912768001718372, 0.7687983581011468, 0.43983686940034683, 0.43983686940034683, 0.7902755245131952, 0.13171258741886585, 0.7912768001718372, 0.5475184884820605, 0.2825901876036441, 0.07064754690091103, 0.10597132035136655, 0.8721462286213502, 0.17442924572427002, 0.9350074605805038, 0.7687983581011468, 0.9782752129428179, 0.6441841291501322, 0.19325523874503966, 0.12883682583002645, 0.06441841291501323, 0.5692355271129097, 0.28461776355645485, 0.14230888177822743, 0.6358099783328653, 0.12716199566657307, 0.25432399133314615, 0.12716199566657307, 0.7912768001718372, 0.3412442569494938, 0.3412442569494938, 0.3412442569494938, 0.9922362561177618, 0.14024333433808864, 0.14024333433808864, 0.7012166716904432, 0.47258296533116223, 0.23629148266558112, 0.23629148266558112, 0.46507170810065324, 0.46507170810065324, 0.46507170810065324, 0.46507170810065324, 0.698996098566845, 0.3494980492834225, 0.7687983581011468, 0.7912768001718372, 0.7687983581011468, 0.922770724725204, 0.7687983581011468, 0.46507170810065324, 0.46507170810065324, 0.6328666796209248, 0.2109555598736416, 0.2109555598736416, 0.7759144567997837, 0.7132849624320946, 0.28531398497283783, 0.9813104798447757, 0.7687983581011468, 0.4398369543270709, 0.4398369543270709, 0.43983686940034683, 0.43983686940034683, 0.5206456811647413, 0.8047419861948124, 0.922770724725204, 0.48955483181277093, 0.1631849439375903, 0.3263698878751806, 0.9350074948614644, 0.6785079244245209, 0.7687983581011468, 0.7687983581011468, 0.26683300065844173, 0.5336660013168835, 0.26683300065844173, 0.7912768001718372, 0.9184928826052428, 0.7912768001718372, 0.7912768001718372, 0.7912768001718372, 0.7912768001718372, 0.7912768001718372, 0.6785080225536987, 0.7336939331871598, 0.16931398458165225, 0.056437994860550754, 0.05200405359345208, 0.9360729646821375, 0.9227709153556531, 0.922770724725204, 0.6785080225536987, 0.9184929548860954, 0.9203761142211523, 0.7912768001718372, 0.922770724725204, 0.053843003269482485, 0.9153310555812023, 0.053843003269482485, 0.32745884991660973, 0.6549176998332195, 0.7912768001718372, 0.4696863481608686, 0.4696863481608686, 0.7094745780707552, 0.10135351115296502, 0.20270702230593005, 0.4398369543270709, 0.4398369543270709, 0.7687983581011468, 0.8869653639338746, 0.9227709153556531, 0.5702492350884523, 0.14256230877211307, 0.28512461754422613, 0.8438001528772969, 0.9150960686237314, 0.8255939872294545, 0.11794199817563637, 0.46968676860496766, 0.46968676860496766, 0.6329062434661156, 0.3164531217330578, 0.3085737764625206, 0.1542868882312603, 0.1542868882312603, 0.4628606646937809, 0.7687983581011468], \"Term\": [\"able\", \"abstract\", \"adaptation\", \"adultery\", \"afraid\", \"afraid\", \"also\", \"also\", \"also\", \"also\", \"ambitious\", \"angry\", \"approach\", \"arkadyevitch\", \"arkadyevitch\", \"arkadyevitch\", \"attention\", \"awkward\", \"awkward\", \"bad\", \"bad\", \"bad\", \"best\", \"best\", \"big\", \"bit\", \"bit\", \"bit\", \"bit\", \"bitch\", \"bitch\", \"bitch\", \"bitch\", \"book\", \"book\", \"book\", \"boy\", \"bring\", \"bring\", \"bring\", \"brother\", \"brother\", \"care\", \"cause\", \"center\", \"centered\", \"century\", \"century\", \"chapter\", \"character\", \"cheater\", \"cheater\", \"chief\", \"children\", \"children\", \"cigar\", \"clothes\", \"coming\", \"coming\", \"coming\", \"conceive\", \"conservative\", \"conservative\", \"conservative\", \"considered\", \"content\", \"could\", \"could\", \"creature\", \"dandy\", \"day\", \"deal\", \"deprecating\", \"deserve\", \"dick\", \"dick\", \"dick\", \"dies\", \"district\", \"district\", \"dolly\", \"dolly\", \"drawn\", \"drawn\", \"drunk\", \"easy\", \"enough\", \"even\", \"even\", \"falls\", \"families\", \"family\", \"farmer\", \"farmer\", \"fat\", \"fault\", \"feeling\", \"feeling\", \"felt\", \"felt\", \"feminist\", \"feminist\", \"fiction\", \"fiction\", \"finds\", \"finds\", \"finds\", \"first\", \"first\", \"first\", \"form\", \"former\", \"four\", \"friend\", \"friend\", \"friends\", \"genius\", \"get\", \"get\", \"girl\", \"girl\", \"goddess\", \"goes\", \"goes\", \"going\", \"going\", \"going\", \"guy\", \"guy\", \"guy\", \"handle\", \"handsome\", \"hard\", \"hates\", \"home\", \"house\", \"household\", \"houses\", \"husband\", \"husband\", \"husband\", \"husband\", \"idea\", \"idea\", \"inept\", \"intelligent\", \"interact\", \"interested\", \"jobs\", \"kitty\", \"kitty\", \"kitty\", \"kitty\", \"knew\", \"knew\", \"knew\", \"know\", \"know\", \"late\", \"law\", \"law\", \"law\", \"lazy\", \"lazy\", \"lazy\", \"leo\", \"leo\", \"leo\", \"liar\", \"liberal\", \"liberal\", \"liberal\", \"life\", \"like\", \"like\", \"like\", \"liked\", \"liked\", \"likes\", \"little\", \"little\", \"lives\", \"long\", \"lot\", \"lot\", \"lover\", \"loves\", \"low\", \"main\", \"major\", \"major\", \"make\", \"make\", \"mama\", \"man\", \"man\", \"man\", \"man\", \"married\", \"married\", \"movie\", \"needs\", \"nerd\", \"novel\", \"novel\", \"novel\", \"novel\", \"oblonsky\", \"oblonsky\", \"oblonsky\", \"one\", \"one\", \"one\", \"one\", \"opinions\", \"part\", \"part\", \"part\", \"peasant\", \"people\", \"people\", \"people\", \"person\", \"person\", \"person\", \"phenomena\", \"phenomena\", \"physiological\", \"physiological\", \"piece\", \"piece\", \"point\", \"pregnant\", \"problem\", \"problems\", \"property\", \"psychological\", \"psychological\", \"published\", \"published\", \"published\", \"pursue\", \"read\", \"read\", \"realize\", \"realizes\", \"reconciliation\", \"reconciliation\", \"regarded\", \"regarded\", \"rest\", \"results\", \"right\", \"russian\", \"russian\", \"russian\", \"says\", \"sciences\", \"serial\", \"shave\", \"shit\", \"shit\", \"shit\", \"shtcherbatsky\", \"shtcherbatskys\", \"sisters\", \"smoke\", \"social\", \"socially\", \"son\", \"sorry\", \"stepan\", \"stepan\", \"stepan\", \"still\", \"still\", \"struggles\", \"student\", \"suffering\", \"suitors\", \"sure\", \"susceptible\", \"taste\", \"terrible\", \"terrible\", \"terrible\", \"th\", \"th\", \"thirty\", \"time\", \"time\", \"tolstoy\", \"tolstoy\", \"tolstoy\", \"tragic\", \"tragic\", \"treated\", \"used\", \"want\", \"wants\", \"wants\", \"wants\", \"watch\", \"weirdo\", \"well\", \"well\", \"work\", \"work\", \"works\", \"works\", \"world\", \"world\", \"world\", \"world\", \"worst\"]}, \"R\": 30, \"lambda.step\": 0.01, \"plot.opts\": {\"xlab\": \"PC1\", \"ylab\": \"PC2\"}, \"topic.order\": [3, 5, 1, 4, 2]};\n",
       "\n",
       "function LDAvis_load_lib(url, callback){\n",
       "  var s = document.createElement('script');\n",
       "  s.src = url;\n",
       "  s.async = true;\n",
       "  s.onreadystatechange = s.onload = callback;\n",
       "  s.onerror = function(){console.warn(\"failed to load library \" + url);};\n",
       "  document.getElementsByTagName(\"head\")[0].appendChild(s);\n",
       "}\n",
       "\n",
       "if(typeof(LDAvis) !== \"undefined\"){\n",
       "   // already loaded: just create the visualization\n",
       "   !function(LDAvis){\n",
       "       new LDAvis(\"#\" + \"ldavis_el811229572104032162462797055\", ldavis_el811229572104032162462797055_data);\n",
       "   }(LDAvis);\n",
       "}else if(typeof define === \"function\" && define.amd){\n",
       "   // require.js is available: use it to load d3/LDAvis\n",
       "   require.config({paths: {d3: \"https://d3js.org/d3.v5\"}});\n",
       "   require([\"d3\"], function(d3){\n",
       "      window.d3 = d3;\n",
       "      LDAvis_load_lib(\"https://cdn.jsdelivr.net/gh/bmabey/pyLDAvis@3.3.1/pyLDAvis/js/ldavis.v3.0.0.js\", function(){\n",
       "        new LDAvis(\"#\" + \"ldavis_el811229572104032162462797055\", ldavis_el811229572104032162462797055_data);\n",
       "      });\n",
       "    });\n",
       "}else{\n",
       "    // require.js not available: dynamically load d3 & LDAvis\n",
       "    LDAvis_load_lib(\"https://d3js.org/d3.v5.js\", function(){\n",
       "         LDAvis_load_lib(\"https://cdn.jsdelivr.net/gh/bmabey/pyLDAvis@3.3.1/pyLDAvis/js/ldavis.v3.0.0.js\", function(){\n",
       "                 new LDAvis(\"#\" + \"ldavis_el811229572104032162462797055\", ldavis_el811229572104032162462797055_data);\n",
       "            })\n",
       "         });\n",
       "}\n",
       "</script>"
      ],
      "text/plain": [
       "<IPython.core.display.HTML object>"
      ]
     },
     "execution_count": 26,
     "metadata": {},
     "output_type": "execute_result"
    }
   ],
   "source": [
    "panel = pyLDAvis.sklearn.prepare(lda_model = lda, \n",
    "                                 dtm = cv, \n",
    "                                 vectorizer = tf_vectorizer, \n",
    "                                 mds = \"tsne\") # method for dimensionality reduction - compare tsne to pcoa\n",
    "\n",
    "pyLDAvis.display(panel)"
   ]
  },
  {
   "cell_type": "markdown",
   "metadata": {},
   "source": [
    "# Using `gensim`\n",
    "\n"
   ]
  },
  {
   "cell_type": "code",
   "execution_count": 35,
   "metadata": {},
   "outputs": [
    {
     "name": "stdout",
     "output_type": "stream",
     "text": [
      "Dictionary(480 unique tokens: ['affair', 'also', 'anna', 'arkadyevitch', 'begs']...)\n",
      "Dictionary(480 unique tokens: ['affair', 'also', 'anna', 'arkadyevitch', 'begs']...)\n",
      "Dictionary(23 unique tokens: ['also', 'arkadyevitch', 'bit', 'bitch', 'book']...)\n",
      "Dictionary(23 unique tokens: ['also', 'arkadyevitch', 'bit', 'bitch', 'book']...)\n"
     ]
    }
   ],
   "source": [
    "from gensim import corpora, models, similarities\n",
    "from gensim.models.coherencemodel import CoherenceModel\n",
    "\n",
    "prep = [t.split() for t in human_rights[\"Text_processed\"]]\n",
    "\n",
    "# Create Dictionary - like \"fit\" using sklearn\n",
    "print(corpora.Dictionary(prep))\n",
    "dictionary = corpora.Dictionary(prep)\n",
    "print(dictionary)\n",
    "\n",
    "# filter extremes and assign new ids\n",
    "dictionary.filter_extremes(no_above=0.9, keep_n=500)\n",
    "print(dictionary)\n",
    "dictionary.compactify()\n",
    "print(dictionary)\n",
    "\n",
    "# Create Document-Term Matrix of our whole corpus (like \"transform\" using sklearn) \n",
    "corpus = [dictionary.doc2bow(text) for text in prep]\n"
   ]
  },
  {
   "cell_type": "code",
   "execution_count": 36,
   "metadata": {},
   "outputs": [],
   "source": [
    "#print(prep)\n",
    "#print(corpora.Dictionary(prep))\n",
    "#print(dictionary)\n",
    "#dictionary.filter_extremes(no_above=0.9, keep_n=500)\n",
    "#print(dictionary)\n",
    "#print(corpus)\n",
    "#print(human_rights[\"Text_processed\"])"
   ]
  },
  {
   "cell_type": "code",
   "execution_count": 37,
   "metadata": {},
   "outputs": [],
   "source": [
    "#print(dictionary.token2id['also'])"
   ]
  },
  {
   "cell_type": "code",
   "execution_count": 38,
   "metadata": {},
   "outputs": [],
   "source": [
    "# inspect a random ID in the dict for some word\n",
    "#dictionary.token2id['achieved']"
   ]
  },
  {
   "cell_type": "code",
   "execution_count": 39,
   "metadata": {},
   "outputs": [],
   "source": [
    "# first document, first 10 word IDs and their count\n",
    "#corpus[0][:10]"
   ]
  },
  {
   "cell_type": "code",
   "execution_count": 40,
   "metadata": {},
   "outputs": [],
   "source": [
    "# second document, first 10 word IDs and their count\n",
    "#corpus[1][:10]"
   ]
  },
  {
   "cell_type": "code",
   "execution_count": 41,
   "metadata": {},
   "outputs": [],
   "source": [
    "from gensim.models.ldamodel import LdaModel\n",
    "\n",
    "lda_gensim = LdaModel(corpus=corpus,   # stream of document vectors or sparse matrix of shape\n",
    "            id2word=dictionary,       # mapping from word IDs to words (for determining vocab size)\n",
    "            num_topics=5,            # amount of topics\n",
    "            random_state=42,         # seed to generate random state; useful for reproducibility\n",
    "            passes=20,                 # amount of iterations/epochs \n",
    "            per_word_topics=False)    # computing most-likely topics for each word "
   ]
  },
  {
   "cell_type": "code",
   "execution_count": 42,
   "metadata": {},
   "outputs": [
    {
     "name": "stderr",
     "output_type": "stream",
     "text": [
      "C:\\Users\\user\\anaconda3\\lib\\site-packages\\pyLDAvis\\_prepare.py:246: FutureWarning: In a future version of pandas all arguments of DataFrame.drop except for the argument 'labels' will be keyword-only.\n",
      "  default_term_info = default_term_info.sort_values(\n",
      "C:\\Users\\user\\anaconda3\\lib\\site-packages\\sklearn\\manifold\\_t_sne.py:780: FutureWarning: The default initialization in TSNE will change from 'random' to 'pca' in 1.2.\n",
      "  warnings.warn(\n",
      "C:\\Users\\user\\anaconda3\\lib\\site-packages\\sklearn\\manifold\\_t_sne.py:790: FutureWarning: The default learning rate in TSNE will change from 200.0 to 'auto' in 1.2.\n",
      "  warnings.warn(\n",
      "C:\\Users\\user\\anaconda3\\lib\\site-packages\\sklearn\\manifold\\_t_sne.py:819: FutureWarning: 'square_distances' has been introduced in 0.24 to help phase out legacy squaring behavior. The 'legacy' setting will be removed in 1.1 (renaming of 0.26), and the default setting will be changed to True. In 1.3, 'square_distances' will be removed altogether, and distances will be squared by default. Set 'square_distances'=True to silence this warning.\n",
      "  warnings.warn(\n"
     ]
    },
    {
     "data": {
      "text/html": [
       "\n",
       "<link rel=\"stylesheet\" type=\"text/css\" href=\"https://cdn.jsdelivr.net/gh/bmabey/pyLDAvis@3.3.1/pyLDAvis/js/ldavis.v1.0.0.css\">\n",
       "\n",
       "\n",
       "<div id=\"ldavis_el811229572106751203234148362\"></div>\n",
       "<script type=\"text/javascript\">\n",
       "\n",
       "var ldavis_el811229572106751203234148362_data = {\"mdsDat\": {\"x\": [150.22215270996094, 51.16336441040039, -73.1445541381836, -66.4101333618164, 54.41732406616211], \"y\": [-72.2695541381836, -159.968017578125, 21.523815155029297, -110.60643768310547, 12.44344425201416], \"topics\": [1, 2, 3, 4, 5], \"cluster\": [1, 1, 1, 1, 1], \"Freq\": [47.986464647194175, 26.492368535348483, 16.18290059166515, 8.940312216882191, 0.3979540089099967]}, \"tinfo\": {\"Term\": [\"man\", \"liberal\", \"also\", \"novel\", \"kitty\", \"arkadyevitch\", \"stepan\", \"bit\", \"friend\", \"book\", \"guy\", \"going\", \"bitch\", \"husband\", \"tolstoy\", \"shy\", \"one\", \"oblonsky\", \"world\", \"dick\", \"leo\", \"married\", \"published\", \"man\", \"bit\", \"also\", \"world\", \"guy\", \"oblonsky\", \"book\", \"going\", \"shy\", \"dick\", \"friend\", \"stepan\", \"arkadyevitch\", \"husband\", \"bitch\", \"kitty\", \"married\", \"novel\", \"liberal\", \"one\", \"published\", \"leo\", \"tolstoy\", \"friend\", \"leo\", \"arkadyevitch\", \"stepan\", \"married\", \"tolstoy\", \"shy\", \"published\", \"book\", \"husband\", \"dick\", \"kitty\", \"novel\", \"one\", \"going\", \"guy\", \"oblonsky\", \"world\", \"also\", \"liberal\", \"bitch\", \"bit\", \"man\", \"liberal\", \"bitch\", \"kitty\", \"one\", \"published\", \"also\", \"dick\", \"tolstoy\", \"married\", \"leo\", \"bit\", \"world\", \"husband\", \"novel\", \"man\", \"stepan\", \"arkadyevitch\", \"shy\", \"oblonsky\", \"going\", \"guy\", \"book\", \"friend\", \"novel\", \"one\", \"published\", \"bitch\", \"tolstoy\", \"leo\", \"going\", \"oblonsky\", \"husband\", \"guy\", \"man\", \"dick\", \"married\", \"friend\", \"shy\", \"world\", \"bit\", \"liberal\", \"book\", \"stepan\", \"arkadyevitch\", \"kitty\", \"also\", \"published\", \"married\", \"leo\", \"shy\", \"oblonsky\", \"world\", \"one\", \"bitch\", \"tolstoy\", \"going\", \"guy\", \"book\", \"bit\", \"friend\", \"dick\", \"husband\", \"novel\", \"liberal\", \"stepan\", \"arkadyevitch\", \"kitty\", \"also\", \"man\"], \"Freq\": [66.0, 18.0, 50.0, 17.0, 26.0, 20.0, 20.0, 14.0, 14.0, 13.0, 13.0, 12.0, 10.0, 15.0, 11.0, 7.0, 9.0, 8.0, 8.0, 15.0, 7.0, 6.0, 5.0, 56.624074666788715, 11.716214628103257, 34.81291519204577, 5.631327562737542, 7.99493440016588, 4.824157953467956, 7.699540670819095, 6.183839556254683, 3.3098910755188657, 5.345187346777344, 4.933839292983372, 6.761781060252603, 6.757770958562542, 5.108900113653237, 3.2040266390311483, 7.072157170230473, 1.5340950323025295, 3.646781769919404, 3.585655820769592, 1.2379299133874748, 0.19826852457907973, 0.2030678208504991, 0.2004323715519363, 8.69469430061631, 4.474703632938917, 11.964119109036782, 11.959872057084928, 3.641996762144259, 6.043752347528608, 3.835402465869551, 2.3596019463630395, 5.230099419582057, 6.079315104922716, 5.663016357591617, 9.70608996744118, 5.20612704150094, 2.5413045978445634, 3.2713311335659827, 2.9572389519967808, 1.74649616908822, 1.5189765538652718, 5.147061602821485, 1.479563814787411, 0.1998795126504302, 0.19689374058773687, 0.19747344378623363, 13.363232179741651, 3.951672951936922, 9.59703256502645, 2.0698077554766603, 1.1286217670422105, 10.536782083326457, 3.010894709684457, 2.0691860669342272, 1.1288227970453564, 1.1285840961282445, 2.0694054585463815, 1.1287546813990341, 2.0693990615987268, 2.068946773707147, 4.890169379268589, 1.1285856361341615, 1.1284920511592145, 0.18834867634597083, 0.18825137462597447, 0.18844797711210928, 0.18838298590086835, 0.1884000888511949, 0.18858240185935127, 6.402462667842104, 3.1742041890280097, 1.679134412912653, 2.65074684253803, 2.694838334676412, 1.5092113571686578, 2.422647781495755, 1.5501761570188444, 2.5961538108958573, 1.9507750986158021, 5.017056833173526, 1.0336236984066836, 0.2048460541592782, 0.416545523836097, 0.17265060000251728, 0.17252776005306686, 0.2379830794735941, 0.3005243041423078, 0.1843968674863672, 0.17994792781474214, 0.1798479771952439, 0.18884026070848992, 0.2162851399634622, 0.06789315335355275, 0.06789923008241427, 0.067892226987408, 0.06785059294671344, 0.0678388822803552, 0.0678722023305556, 0.06798295843377467, 0.06802836202727208, 0.06797844312709424, 0.06788470536040875, 0.06786396990689182, 0.06786094028176431, 0.06791773992670291, 0.06790250440803285, 0.06795803394089875, 0.0680126371076199, 0.06797398025623334, 0.06847376353063295, 0.0679351369663774, 0.06792106668814099, 0.06855080340190416, 0.06835154728774889, 0.06811641342064134], \"Total\": [66.0, 18.0, 50.0, 17.0, 26.0, 20.0, 20.0, 14.0, 14.0, 13.0, 13.0, 12.0, 10.0, 15.0, 11.0, 7.0, 9.0, 8.0, 8.0, 15.0, 7.0, 6.0, 5.0, 66.7968907364377, 14.288414646637671, 50.781395565444925, 8.519458760385469, 13.159195406586223, 8.37692053648135, 13.370297987020479, 12.134151153788938, 7.574143410683618, 15.120680146401, 14.301564023703165, 20.09812181825281, 20.098151162641923, 15.921780728178158, 10.074354308183803, 26.632670766808495, 6.577659875733837, 17.392292233225827, 18.797449882971595, 9.091229414170481, 5.433519804250536, 7.3834591340737274, 11.076187563818278, 14.301564023703165, 7.3834591340737274, 20.098151162641923, 20.09812181825281, 6.577659875733837, 11.076187563818278, 7.574143410683618, 5.433519804250536, 13.370297987020479, 15.921780728178158, 15.120680146401, 26.632670766808495, 17.392292233225827, 9.091229414170481, 12.134151153788938, 13.159195406586223, 8.37692053648135, 8.519458760385469, 50.781395565444925, 18.797449882971595, 10.074354308183803, 14.288414646637671, 66.7968907364377, 18.797449882971595, 10.074354308183803, 26.632670766808495, 9.091229414170481, 5.433519804250536, 50.781395565444925, 15.120680146401, 11.076187563818278, 6.577659875733837, 7.3834591340737274, 14.288414646637671, 8.519458760385469, 15.921780728178158, 17.392292233225827, 66.7968907364377, 20.09812181825281, 20.098151162641923, 7.574143410683618, 8.37692053648135, 12.134151153788938, 13.159195406586223, 13.370297987020479, 14.301564023703165, 17.392292233225827, 9.091229414170481, 5.433519804250536, 10.074354308183803, 11.076187563818278, 7.3834591340737274, 12.134151153788938, 8.37692053648135, 15.921780728178158, 13.159195406586223, 66.7968907364377, 15.120680146401, 6.577659875733837, 14.301564023703165, 7.574143410683618, 8.519458760385469, 14.288414646637671, 18.797449882971595, 13.370297987020479, 20.09812181825281, 20.098151162641923, 26.632670766808495, 50.781395565444925, 5.433519804250536, 6.577659875733837, 7.3834591340737274, 7.574143410683618, 8.37692053648135, 8.519458760385469, 9.091229414170481, 10.074354308183803, 11.076187563818278, 12.134151153788938, 13.159195406586223, 13.370297987020479, 14.288414646637671, 14.301564023703165, 15.120680146401, 15.921780728178158, 17.392292233225827, 18.797449882971595, 20.09812181825281, 20.098151162641923, 26.632670766808495, 50.781395565444925, 66.7968907364377], \"Category\": [\"Default\", \"Default\", \"Default\", \"Default\", \"Default\", \"Default\", \"Default\", \"Default\", \"Default\", \"Default\", \"Default\", \"Default\", \"Default\", \"Default\", \"Default\", \"Default\", \"Default\", \"Default\", \"Default\", \"Default\", \"Default\", \"Default\", \"Default\", \"Topic1\", \"Topic1\", \"Topic1\", \"Topic1\", \"Topic1\", \"Topic1\", \"Topic1\", \"Topic1\", \"Topic1\", \"Topic1\", \"Topic1\", \"Topic1\", \"Topic1\", \"Topic1\", \"Topic1\", \"Topic1\", \"Topic1\", \"Topic1\", \"Topic1\", \"Topic1\", \"Topic1\", \"Topic1\", \"Topic1\", \"Topic2\", \"Topic2\", \"Topic2\", \"Topic2\", \"Topic2\", \"Topic2\", \"Topic2\", \"Topic2\", \"Topic2\", \"Topic2\", \"Topic2\", \"Topic2\", \"Topic2\", \"Topic2\", \"Topic2\", \"Topic2\", \"Topic2\", \"Topic2\", \"Topic2\", \"Topic2\", \"Topic2\", \"Topic2\", \"Topic2\", \"Topic3\", \"Topic3\", \"Topic3\", \"Topic3\", \"Topic3\", \"Topic3\", \"Topic3\", \"Topic3\", \"Topic3\", \"Topic3\", \"Topic3\", \"Topic3\", \"Topic3\", \"Topic3\", \"Topic3\", \"Topic3\", \"Topic3\", \"Topic3\", \"Topic3\", \"Topic3\", \"Topic3\", \"Topic3\", \"Topic3\", \"Topic4\", \"Topic4\", \"Topic4\", \"Topic4\", \"Topic4\", \"Topic4\", \"Topic4\", \"Topic4\", \"Topic4\", \"Topic4\", \"Topic4\", \"Topic4\", \"Topic4\", \"Topic4\", \"Topic4\", \"Topic4\", \"Topic4\", \"Topic4\", \"Topic4\", \"Topic4\", \"Topic4\", \"Topic4\", \"Topic4\", \"Topic5\", \"Topic5\", \"Topic5\", \"Topic5\", \"Topic5\", \"Topic5\", \"Topic5\", \"Topic5\", \"Topic5\", \"Topic5\", \"Topic5\", \"Topic5\", \"Topic5\", \"Topic5\", \"Topic5\", \"Topic5\", \"Topic5\", \"Topic5\", \"Topic5\", \"Topic5\", \"Topic5\", \"Topic5\", \"Topic5\"], \"logprob\": [23.0, 22.0, 21.0, 20.0, 19.0, 18.0, 17.0, 16.0, 15.0, 14.0, 13.0, 12.0, 11.0, 10.0, 9.0, 8.0, 7.0, 6.0, 5.0, 4.0, 3.0, 2.0, 1.0, -1.2031, -2.7786, -1.6896, -3.5112, -3.1608, -3.6659, -3.1984, -3.4176, -4.0426, -3.5634, -3.6434, -3.3283, -3.3289, -3.6086, -4.0752, -3.2834, -4.8116, -3.9457, -3.9626, -5.0261, -6.8577, -6.8338, -6.8468, -2.4828, -3.1471, -2.1636, -2.1639, -3.353, -2.8465, -3.3012, -3.787, -2.9911, -2.8406, -2.9115, -2.3727, -2.9957, -3.7128, -3.4603, -3.5612, -4.0879, -4.2275, -3.0071, -4.2537, -6.2555, -6.2706, -6.2676, -1.5601, -2.7785, -1.8911, -3.4251, -4.0316, -1.7977, -3.0504, -3.4254, -4.0314, -4.0316, -3.4253, -4.0315, -3.4253, -3.4256, -2.5654, -4.0316, -4.0317, -5.8221, -5.8226, -5.8215, -5.8219, -5.8218, -5.8208, -1.7025, -2.4042, -3.0409, -2.5844, -2.5679, -3.1476, -2.6743, -3.1208, -2.6052, -2.891, -1.9464, -3.5261, -5.1447, -4.435, -5.3157, -5.3164, -4.9948, -4.7614, -5.2499, -5.2743, -5.2749, -5.2261, -5.0904, -3.137, -3.137, -3.1371, -3.1377, -3.1378, -3.1373, -3.1357, -3.1351, -3.1358, -3.1372, -3.1375, -3.1375, -3.1367, -3.1369, -3.1361, -3.1353, -3.1359, -3.1285, -3.1364, -3.1366, -3.1274, -3.1303, -3.1338], \"loglift\": [23.0, 22.0, 21.0, 20.0, 19.0, 18.0, 17.0, 16.0, 15.0, 14.0, 13.0, 12.0, 11.0, 10.0, 9.0, 8.0, 7.0, 6.0, 5.0, 4.0, 3.0, 2.0, 1.0, 0.569, 0.5358, 0.3567, 0.3202, 0.2359, 0.1824, 0.1824, 0.0602, -0.0936, -0.3056, -0.33, -0.3551, -0.3557, -0.4025, -0.4113, -0.5917, -0.7215, -0.8279, -0.9225, -1.2596, -2.5765, -2.8592, -3.2778, 0.8307, 0.8275, 0.8096, 0.8092, 0.7372, 0.7225, 0.6478, 0.4942, 0.3897, 0.3655, 0.3462, 0.3189, 0.1221, 0.0537, 0.0175, -0.1646, -0.2396, -0.396, -0.9608, -1.2137, -2.5917, -2.9562, -4.4955, 1.48, 0.8854, 0.8005, 0.3414, 0.2496, 0.2486, 0.2074, 0.1436, 0.0587, -0.0571, -0.111, -0.2, -0.2192, -0.3078, -0.7932, -1.0584, -1.0585, -1.873, -1.9742, -2.3437, -2.4252, -2.441, -2.5074, 1.4153, 1.3623, 1.2403, 1.0794, 1.0011, 0.8269, 0.8034, 0.7275, 0.6009, 0.5057, -0.1742, -0.2684, -1.0546, -1.1215, -1.3666, -1.485, -1.6804, -1.7213, -1.8691, -2.3011, -2.3017, -2.5344, -3.0441, 1.1442, 0.9532, 0.8375, 0.8114, 0.7105, 0.6941, 0.6308, 0.5288, 0.4332, 0.3406, 0.2592, 0.2433, 0.1777, 0.1765, 0.1217, 0.0708, -0.0181, -0.0884, -0.1632, -0.1634, -0.4357, -1.084, -1.3616]}, \"token.table\": {\"Topic\": [1, 2, 3, 1, 2, 3, 1, 3, 1, 3, 4, 1, 2, 1, 2, 3, 4, 1, 2, 1, 2, 4, 1, 2, 4, 1, 2, 3, 4, 1, 2, 3, 2, 3, 4, 1, 2, 3, 1, 3, 4, 1, 2, 3, 1, 2, 3, 4, 1, 2, 4, 1, 2, 3, 4, 2, 3, 4, 1, 2, 1, 2, 3, 2, 3, 4, 1, 2, 3], \"Freq\": [0.6892287935429713, 0.09846125622042448, 0.21661476368493385, 0.3482907429321893, 0.5970698450266103, 0.04975582041888419, 0.8398412487856952, 0.13997354146428254, 0.2977858340323587, 0.3970477787098116, 0.2977858340323587, 0.5983411893860692, 0.3739632433662933, 0.3306729559509988, 0.3968075471411986, 0.1984037735705993, 0.06613459119019977, 0.34961211177414486, 0.6293018011934608, 0.49447216570451863, 0.24723608285225931, 0.16482405523483956, 0.6079399045929489, 0.22797746422235585, 0.15198497614823722, 0.31403522541615375, 0.37684227049938446, 0.1256140901664615, 0.18842113524969223, 0.2628350743074514, 0.3754786775820735, 0.3754786775820735, 0.5417514917283834, 0.13543787293209586, 0.2708757458641917, 0.21279482189887663, 0.05319870547471916, 0.691583171171349, 0.8533331322996222, 0.07485378353505458, 0.07485378353505458, 0.30405950410697846, 0.6081190082139569, 0.15202975205348923, 0.22998693595767059, 0.28748366994708824, 0.11499346797883529, 0.34498040393650586, 0.5968780506183725, 0.23875122024734902, 0.23875122024734902, 0.10999612422510227, 0.32998837267530684, 0.21999224845020454, 0.32998837267530684, 0.36808552688727464, 0.18404276344363732, 0.36808552688727464, 0.39608439361847647, 0.5281125248246353, 0.34829125145627815, 0.5970707167821911, 0.0497558930651826, 0.541702635986387, 0.18056754532879568, 0.2708513179931935, 0.7042700914169958, 0.2347566971389986, 0.1173783485694993], \"Term\": [\"also\", \"also\", \"also\", \"arkadyevitch\", \"arkadyevitch\", \"arkadyevitch\", \"bit\", \"bit\", \"bitch\", \"bitch\", \"bitch\", \"book\", \"book\", \"dick\", \"dick\", \"dick\", \"dick\", \"friend\", \"friend\", \"going\", \"going\", \"going\", \"guy\", \"guy\", \"guy\", \"husband\", \"husband\", \"husband\", \"husband\", \"kitty\", \"kitty\", \"kitty\", \"leo\", \"leo\", \"leo\", \"liberal\", \"liberal\", \"liberal\", \"man\", \"man\", \"man\", \"married\", \"married\", \"married\", \"novel\", \"novel\", \"novel\", \"novel\", \"oblonsky\", \"oblonsky\", \"oblonsky\", \"one\", \"one\", \"one\", \"one\", \"published\", \"published\", \"published\", \"shy\", \"shy\", \"stepan\", \"stepan\", \"stepan\", \"tolstoy\", \"tolstoy\", \"tolstoy\", \"world\", \"world\", \"world\"]}, \"R\": 23, \"lambda.step\": 0.01, \"plot.opts\": {\"xlab\": \"PC1\", \"ylab\": \"PC2\"}, \"topic.order\": [4, 5, 2, 1, 3]};\n",
       "\n",
       "function LDAvis_load_lib(url, callback){\n",
       "  var s = document.createElement('script');\n",
       "  s.src = url;\n",
       "  s.async = true;\n",
       "  s.onreadystatechange = s.onload = callback;\n",
       "  s.onerror = function(){console.warn(\"failed to load library \" + url);};\n",
       "  document.getElementsByTagName(\"head\")[0].appendChild(s);\n",
       "}\n",
       "\n",
       "if(typeof(LDAvis) !== \"undefined\"){\n",
       "   // already loaded: just create the visualization\n",
       "   !function(LDAvis){\n",
       "       new LDAvis(\"#\" + \"ldavis_el811229572106751203234148362\", ldavis_el811229572106751203234148362_data);\n",
       "   }(LDAvis);\n",
       "}else if(typeof define === \"function\" && define.amd){\n",
       "   // require.js is available: use it to load d3/LDAvis\n",
       "   require.config({paths: {d3: \"https://d3js.org/d3.v5\"}});\n",
       "   require([\"d3\"], function(d3){\n",
       "      window.d3 = d3;\n",
       "      LDAvis_load_lib(\"https://cdn.jsdelivr.net/gh/bmabey/pyLDAvis@3.3.1/pyLDAvis/js/ldavis.v3.0.0.js\", function(){\n",
       "        new LDAvis(\"#\" + \"ldavis_el811229572106751203234148362\", ldavis_el811229572106751203234148362_data);\n",
       "      });\n",
       "    });\n",
       "}else{\n",
       "    // require.js not available: dynamically load d3 & LDAvis\n",
       "    LDAvis_load_lib(\"https://d3js.org/d3.v5.js\", function(){\n",
       "         LDAvis_load_lib(\"https://cdn.jsdelivr.net/gh/bmabey/pyLDAvis@3.3.1/pyLDAvis/js/ldavis.v3.0.0.js\", function(){\n",
       "                 new LDAvis(\"#\" + \"ldavis_el811229572106751203234148362\", ldavis_el811229572106751203234148362_data);\n",
       "            })\n",
       "         });\n",
       "}\n",
       "</script>"
      ],
      "text/plain": [
       "<IPython.core.display.HTML object>"
      ]
     },
     "execution_count": 42,
     "metadata": {},
     "output_type": "execute_result"
    }
   ],
   "source": [
    "import pyLDAvis.gensim_models as gensimvis\n",
    "\n",
    "panel = gensimvis.prepare(lda_gensim, corpus, dictionary, mds=\"tsne\")\n",
    "\n",
    "pyLDAvis.display(panel)"
   ]
  },
  {
   "cell_type": "code",
   "execution_count": null,
   "metadata": {},
   "outputs": [],
   "source": []
  },
  {
   "cell_type": "code",
   "execution_count": null,
   "metadata": {},
   "outputs": [],
   "source": []
  }
 ],
 "metadata": {
  "kernelspec": {
   "display_name": "Python 3 (ipykernel)",
   "language": "python",
   "name": "python3"
  },
  "language_info": {
   "codemirror_mode": {
    "name": "ipython",
    "version": 3
   },
   "file_extension": ".py",
   "mimetype": "text/x-python",
   "name": "python",
   "nbconvert_exporter": "python",
   "pygments_lexer": "ipython3",
   "version": "3.9.12"
  }
 },
 "nbformat": 4,
 "nbformat_minor": 4
}
